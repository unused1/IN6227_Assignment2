{
 "cells": [
  {
   "cell_type": "markdown",
   "metadata": {},
   "source": [
    "# File Information"
   ]
  },
  {
   "cell_type": "markdown",
   "metadata": {},
   "source": [
    "__Author__: \"Tan Hua Beng, G2203829L\"\n",
    "\n",
    "__Email__: \"w220032@e.ntu.edus.g\"\n",
    "\n",
    "__Project__ = \"IN6277 Assignment 2\"\n",
    "\n",
    "__Description__ = \"Jupyter notebook containing the workings, notes, and code for IN6277 assignment 2. This assignment uses a dataset downloaded from Kaggle (https://www.kaggle.com/datasets/heeraldedhia/groceries-dataset/). Two types of association rules algorithm - Apriori based on mlxtend python library and brute force python implementation taking reference from GitHub (https://github.com/Dhruvish97/Brute-Force-Rule-Mining), are applied and compared by analysing the time required for execution as the performance metric.\n",
    "\n",
    "__License__ = \"See README.md\"\n",
    "\n",
    "__Version__ = \"1.0.0\"\n"
   ]
  },
  {
   "cell_type": "markdown",
   "metadata": {},
   "source": [
    "# Environment setup for assignment"
   ]
  },
  {
   "cell_type": "markdown",
   "metadata": {},
   "source": [
    "A virual environment is created with running python version 3.11.5. Required python packages have been exported using the following commands and can be found within the project folder."
   ]
  },
  {
   "cell_type": "code",
   "execution_count": 1,
   "metadata": {},
   "outputs": [],
   "source": [
    "!pip list --format=freeze > requirements.txt\n",
    "!conda list -e > conda_requirements.txt"
   ]
  },
  {
   "cell_type": "markdown",
   "metadata": {},
   "source": [
    "# Import libraries"
   ]
  },
  {
   "cell_type": "code",
   "execution_count": 2,
   "metadata": {},
   "outputs": [],
   "source": [
    "import os\n",
    "import time\n",
    "import math\n",
    "import numpy as np\n",
    "import pandas as pd\n",
    "import itertools\n",
    "from mlxtend.frequent_patterns import apriori, association_rules\n",
    "import matplotlib.pyplot as plt"
   ]
  },
  {
   "cell_type": "code",
   "execution_count": 3,
   "metadata": {},
   "outputs": [],
   "source": [
    "G_DATASET_FILE = './dataset/Groceries_dataset.csv'\n",
    "G_RESULTS_DIR = './results'"
   ]
  },
  {
   "cell_type": "markdown",
   "metadata": {},
   "source": [
    "# Dataset for use with association rule algorithm"
   ]
  },
  {
   "cell_type": "markdown",
   "metadata": {},
   "source": [
    "## Initial study to understand the dataset"
   ]
  },
  {
   "cell_type": "code",
   "execution_count": 4,
   "metadata": {},
   "outputs": [],
   "source": [
    "# Create results directory\n",
    "if not os.path.exists(G_RESULTS_DIR):\n",
    "    os.makedirs(G_RESULTS_DIR)\n",
    "\n",
    "# Check if dataset file exists, if not, raise error with message\n",
    "if not os.path.exists(G_DATASET_FILE):\n",
    "    raise FileNotFoundError('Dataset file does not exist!')"
   ]
  },
  {
   "cell_type": "code",
   "execution_count": 5,
   "metadata": {},
   "outputs": [
    {
     "name": "stdout",
     "output_type": "stream",
     "text": [
      "<class 'pandas.core.frame.DataFrame'>\n",
      "RangeIndex: 38765 entries, 0 to 38764\n",
      "Data columns (total 3 columns):\n",
      " #   Column           Non-Null Count  Dtype \n",
      "---  ------           --------------  ----- \n",
      " 0   Member_number    38765 non-null  int64 \n",
      " 1   Date             38765 non-null  object\n",
      " 2   itemDescription  38765 non-null  object\n",
      "dtypes: int64(1), object(2)\n",
      "memory usage: 908.7+ KB\n"
     ]
    },
    {
     "data": {
      "text/plain": [
       "Member_number      0\n",
       "Date               0\n",
       "itemDescription    0\n",
       "dtype: int64"
      ]
     },
     "execution_count": 5,
     "metadata": {},
     "output_type": "execute_result"
    }
   ],
   "source": [
    "# Load dataset and read header information from the first row\n",
    "data = pd.read_csv(G_DATASET_FILE, sep=',', header=0)\n",
    "\n",
    "# Check the shape of the dataset\n",
    "data.info()\n",
    "\n",
    "# Check for missing values\n",
    "data.isnull().sum()\n"
   ]
  },
  {
   "cell_type": "code",
   "execution_count": 6,
   "metadata": {},
   "outputs": [
    {
     "name": "stdout",
     "output_type": "stream",
     "text": [
      "Member_number [1808 2552 2300 ... 3607 4587 2417]\n",
      "Date ['21-07-2015' '05-01-2015' '19-09-2015' '12-12-2015' '01-02-2015'\n",
      " '14-02-2015' '08-05-2015' '23-12-2015' '20-03-2015' '12-02-2015'\n",
      " '24-02-2015' '14-04-2015' '03-09-2015' '30-03-2015' '03-05-2015'\n",
      " '02-09-2015' '03-08-2015' '07-07-2015' '08-09-2015' '12-11-2015'\n",
      " '18-09-2015' '30-11-2015' '17-07-2015' '12-06-2015' '13-02-2015'\n",
      " '14-01-2015' '08-03-2015' '27-01-2015' '22-10-2015' '26-10-2015'\n",
      " '08-10-2015' '03-10-2015' '11-04-2015' '21-02-2015' '29-09-2015'\n",
      " '09-01-2015' '03-04-2015' '20-04-2015' '04-08-2015' '19-07-2015'\n",
      " '06-10-2015' '16-10-2015' '06-06-2015' '26-09-2015' '15-08-2015'\n",
      " '21-05-2015' '25-08-2015' '11-03-2015' '05-06-2015' '28-07-2015'\n",
      " '05-09-2015' '19-06-2015' '11-10-2015' '16-06-2015' '20-01-2015'\n",
      " '15-02-2015' '13-04-2015' '07-02-2015' '02-03-2015' '14-03-2015'\n",
      " '22-12-2015' '01-07-2015' '03-11-2015' '12-04-2015' '05-05-2015'\n",
      " '12-05-2015' '08-07-2015' '21-09-2015' '10-12-2015' '30-09-2015'\n",
      " '31-01-2015' '13-12-2015' '04-03-2015' '20-12-2015' '06-11-2015'\n",
      " '18-02-2015' '22-07-2015' '23-08-2015' '15-04-2015' '26-01-2015'\n",
      " '29-12-2015' '20-10-2015' '17-08-2015' '17-05-2015' '25-07-2015'\n",
      " '11-09-2015' '18-06-2015' '08-12-2015' '25-04-2015' '14-05-2015'\n",
      " '04-05-2015' '10-10-2015' '11-06-2015' '30-10-2015' '23-05-2015'\n",
      " '07-11-2015' '04-09-2015' '18-05-2015' '26-03-2015' '23-06-2015'\n",
      " '10-08-2015' '23-07-2015' '01-06-2015' '15-05-2015' '14-06-2015'\n",
      " '08-08-2015' '10-06-2015' '11-11-2015' '15-09-2015' '27-06-2015'\n",
      " '13-01-2015' '06-09-2015' '22-08-2015' '25-02-2015' '22-02-2015'\n",
      " '16-01-2015' '19-11-2015' '19-08-2015' '24-06-2015' '10-03-2015'\n",
      " '21-01-2015' '18-07-2015' '08-02-2015' '08-06-2015' '09-06-2015'\n",
      " '16-03-2015' '07-03-2015' '31-05-2015' '30-06-2015' '27-08-2015'\n",
      " '05-03-2015' '17-04-2015' '25-06-2015' '04-10-2015' '07-05-2015'\n",
      " '17-06-2015' '19-02-2015' '24-08-2015' '22-06-2015' '25-12-2015'\n",
      " '09-04-2015' '09-03-2015' '17-01-2015' '26-11-2015' '27-02-2015'\n",
      " '22-04-2015' '17-10-2015' '06-04-2015' '10-11-2015' '05-02-2015'\n",
      " '21-08-2015' '24-07-2015' '09-05-2015' '28-04-2015' '20-02-2015'\n",
      " '14-11-2015' '01-08-2015' '26-04-2015' '07-01-2015' '13-09-2015'\n",
      " '26-02-2015' '05-07-2015' '07-10-2015' '23-10-2015' '01-10-2015'\n",
      " '04-11-2015' '12-07-2015' '24-09-2015' '20-06-2015' '11-08-2015'\n",
      " '22-11-2015' '10-07-2015' '24-12-2015' '15-11-2015' '04-12-2015'\n",
      " '07-04-2015' '06-01-2015' '28-09-2015' '29-11-2015' '03-07-2015'\n",
      " '20-09-2015' '18-08-2015' '14-12-2015' '13-10-2015' '07-06-2015'\n",
      " '09-07-2015' '27-03-2015' '16-11-2015' '11-05-2015' '16-09-2015'\n",
      " '28-01-2015' '12-01-2015' '25-10-2015' '02-05-2015' '22-05-2015'\n",
      " '30-05-2015' '18-04-2015' '10-09-2015' '30-12-2015' '27-05-2015'\n",
      " '30-08-2015' '02-07-2015' '01-05-2015' '30-04-2015' '23-09-2015'\n",
      " '06-03-2015' '02-08-2015' '25-01-2015' '23-01-2015' '28-05-2015'\n",
      " '11-02-2015' '28-12-2015' '23-03-2015' '12-03-2015' '16-05-2015'\n",
      " '24-05-2015' '21-06-2015' '02-04-2015' '27-12-2015' '17-09-2015'\n",
      " '04-07-2015' '28-11-2015' '26-07-2015' '04-01-2015' '04-02-2015'\n",
      " '11-01-2015' '10-02-2015' '05-08-2015' '10-01-2015' '16-07-2015'\n",
      " '24-01-2015' '19-05-2015' '18-12-2015' '13-03-2015' '11-12-2015'\n",
      " '08-04-2015' '26-05-2015' '29-01-2015' '19-04-2015' '06-07-2015'\n",
      " '23-11-2015' '01-03-2015' '15-10-2015' '03-01-2015' '24-04-2015'\n",
      " '29-04-2015' '21-03-2015' '18-03-2015' '12-10-2015' '06-02-2015'\n",
      " '21-12-2015' '12-08-2015' '27-09-2015' '17-03-2015' '15-03-2015'\n",
      " '27-04-2015' '13-08-2015' '03-03-2015' '07-08-2015' '16-02-2015'\n",
      " '03-06-2015' '25-03-2015' '15-06-2015' '23-02-2015' '02-12-2015'\n",
      " '05-12-2015' '02-11-2015' '24-11-2015' '01-11-2015' '17-11-2015'\n",
      " '03-12-2015' '05-11-2015' '14-10-2015' '24-10-2015' '09-11-2015'\n",
      " '31-08-2015' '19-12-2015' '15-12-2015' '01-04-2015' '21-11-2015'\n",
      " '18-10-2015' '25-05-2015' '22-09-2015' '29-08-2015' '28-08-2015'\n",
      " '21-10-2015' '29-05-2015' '26-08-2015' '28-06-2015' '27-11-2015'\n",
      " '14-08-2015' '29-06-2015' '15-01-2015' '17-02-2015' '20-05-2015'\n",
      " '08-11-2015' '19-03-2015' '28-10-2015' '16-08-2015' '13-11-2015'\n",
      " '13-07-2015' '20-07-2015' '10-05-2015' '29-10-2015' '16-12-2015'\n",
      " '30-01-2015' '22-03-2015' '09-10-2015' '03-02-2015' '19-10-2015'\n",
      " '27-10-2015' '02-10-2015' '28-02-2015' '27-07-2015' '09-08-2015'\n",
      " '09-09-2015' '12-09-2015' '06-12-2015' '31-03-2015' '01-01-2015'\n",
      " '18-01-2015' '02-06-2015' '31-07-2015' '04-04-2015' '31-10-2015'\n",
      " '07-12-2015' '29-07-2015' '25-09-2015' '14-07-2015' '08-01-2015'\n",
      " '02-01-2015' '30-07-2015' '26-12-2015' '13-05-2015' '01-12-2015'\n",
      " '28-03-2015' '20-11-2015' '22-01-2015' '11-07-2015' '15-07-2015'\n",
      " '24-03-2015' '13-06-2015' '05-10-2015' '20-08-2015' '17-12-2015'\n",
      " '06-05-2015' '25-11-2015' '07-09-2015' '02-02-2015' '14-09-2015'\n",
      " '21-04-2015' '18-11-2015' '09-12-2015' '09-02-2015' '16-04-2015'\n",
      " '29-03-2015' '10-04-2015' '19-01-2015' '06-08-2015' '04-06-2015'\n",
      " '01-09-2015' '05-04-2015' '26-06-2015' '23-04-2015' '01-10-2014'\n",
      " '16-12-2014' '10-10-2014' '09-12-2014' '15-11-2014' '16-10-2014'\n",
      " '14-08-2014' '30-08-2014' '06-10-2014' '11-06-2014' '28-05-2014'\n",
      " '16-02-2014' '29-08-2014' '14-04-2014' '25-06-2014' '14-02-2014'\n",
      " '20-06-2014' '22-07-2014' '03-02-2014' '24-04-2014' '28-01-2014'\n",
      " '21-08-2014' '08-01-2014' '27-02-2014' '04-10-2014' '25-02-2014'\n",
      " '13-05-2014' '31-01-2014' '29-03-2014' '05-05-2014' '04-03-2014'\n",
      " '08-10-2014' '10-12-2014' '18-09-2014' '17-08-2014' '29-07-2014'\n",
      " '05-10-2014' '17-07-2014' '02-09-2014' '23-01-2014' '19-01-2014'\n",
      " '21-04-2014' '05-06-2014' '06-01-2014' '28-07-2014' '21-10-2014'\n",
      " '31-07-2014' '13-06-2014' '30-09-2014' '14-03-2014' '07-11-2014'\n",
      " '24-02-2014' '26-02-2014' '27-07-2014' '30-06-2014' '23-08-2014'\n",
      " '15-04-2014' '18-07-2014' '12-04-2014' '05-09-2014' '22-04-2014'\n",
      " '27-12-2014' '23-02-2014' '07-07-2014' '12-07-2014' '27-11-2014'\n",
      " '02-01-2014' '07-01-2014' '31-08-2014' '03-10-2014' '27-10-2014'\n",
      " '20-10-2014' '04-05-2014' '21-09-2014' '22-01-2014' '11-10-2014'\n",
      " '04-12-2014' '11-09-2014' '08-07-2014' '05-01-2014' '08-09-2014'\n",
      " '24-05-2014' '04-06-2014' '31-03-2014' '06-07-2014' '02-10-2014'\n",
      " '01-03-2014' '15-12-2014' '25-03-2014' '13-04-2014' '15-06-2014'\n",
      " '28-08-2014' '22-08-2014' '21-01-2014' '12-06-2014' '16-08-2014'\n",
      " '13-10-2014' '14-05-2014' '06-05-2014' '03-06-2014' '13-02-2014'\n",
      " '18-05-2014' '20-11-2014' '29-01-2014' '26-07-2014' '18-04-2014'\n",
      " '07-09-2014' '29-11-2014' '11-12-2014' '09-08-2014' '12-10-2014'\n",
      " '30-07-2014' '04-02-2014' '20-02-2014' '01-02-2014' '03-04-2014'\n",
      " '02-03-2014' '26-08-2014' '28-04-2014' '20-12-2014' '04-09-2014'\n",
      " '11-05-2014' '21-03-2014' '27-01-2014' '30-10-2014' '19-03-2014'\n",
      " '20-09-2014' '18-03-2014' '05-04-2014' '25-05-2014' '15-07-2014'\n",
      " '10-01-2014' '03-09-2014' '30-05-2014' '27-06-2014' '23-05-2014'\n",
      " '11-08-2014' '04-04-2014' '14-01-2014' '09-04-2014' '30-03-2014'\n",
      " '27-03-2014' '28-09-2014' '06-08-2014' '17-12-2014' '14-11-2014'\n",
      " '28-10-2014' '10-11-2014' '02-12-2014' '07-03-2014' '02-06-2014'\n",
      " '02-04-2014' '09-05-2014' '21-11-2014' '09-06-2014' '10-05-2014'\n",
      " '24-08-2014' '15-08-2014' '06-06-2014' '03-07-2014' '15-03-2014'\n",
      " '12-02-2014' '03-08-2014' '02-11-2014' '29-12-2014' '23-12-2014'\n",
      " '16-06-2014' '13-01-2014' '12-05-2014' '08-06-2014' '03-05-2014'\n",
      " '29-05-2014' '01-06-2014' '02-08-2014' '14-07-2014' '23-03-2014'\n",
      " '16-03-2014' '18-02-2014' '20-08-2014' '25-12-2014' '02-05-2014'\n",
      " '18-12-2014' '13-12-2014' '06-02-2014' '26-05-2014' '14-12-2014'\n",
      " '08-05-2014' '16-09-2014' '19-05-2014' '04-08-2014' '13-03-2014'\n",
      " '26-12-2014' '17-10-2014' '20-03-2014' '19-10-2014' '17-02-2014'\n",
      " '12-03-2014' '31-10-2014' '05-02-2014' '17-04-2014' '24-09-2014'\n",
      " '29-04-2014' '18-01-2014' '21-06-2014' '28-11-2014' '17-03-2014'\n",
      " '23-07-2014' '03-03-2014' '24-10-2014' '03-01-2014' '07-08-2014'\n",
      " '14-10-2014' '06-03-2014' '06-11-2014' '01-08-2014' '20-05-2014'\n",
      " '26-10-2014' '08-02-2014' '04-11-2014' '14-06-2014' '10-04-2014'\n",
      " '01-12-2014' '06-12-2014' '26-09-2014' '08-04-2014' '25-10-2014'\n",
      " '25-08-2014' '19-12-2014' '26-01-2014' '27-09-2014' '01-07-2014'\n",
      " '10-03-2014' '21-02-2014' '26-11-2014' '28-12-2014' '17-09-2014'\n",
      " '22-03-2014' '04-07-2014' '20-07-2014' '12-09-2014' '21-05-2014'\n",
      " '20-01-2014' '29-09-2014' '30-01-2014' '09-11-2014' '25-01-2014'\n",
      " '07-12-2014' '09-01-2014' '25-07-2014' '05-08-2014' '13-07-2014'\n",
      " '26-06-2014' '01-01-2014' '18-11-2014' '06-09-2014' '05-07-2014'\n",
      " '08-12-2014' '25-09-2014' '07-05-2014' '12-01-2014' '16-04-2014'\n",
      " '11-03-2014' '09-07-2014' '11-07-2014' '22-11-2014' '07-06-2014'\n",
      " '11-04-2014' '23-10-2014' '05-03-2014' '24-01-2014' '11-01-2014'\n",
      " '18-06-2014' '02-02-2014' '22-10-2014' '20-04-2014' '22-02-2014'\n",
      " '19-04-2014' '24-12-2014' '19-08-2014' '29-10-2014' '19-11-2014'\n",
      " '30-04-2014' '13-09-2014' '08-08-2014' '09-09-2014' '17-01-2014'\n",
      " '30-12-2014' '16-05-2014' '28-02-2014' '05-11-2014' '15-01-2014'\n",
      " '19-02-2014' '27-05-2014' '09-10-2014' '24-07-2014' '23-06-2014'\n",
      " '22-06-2014' '28-03-2014' '07-04-2014' '23-09-2014' '22-12-2014'\n",
      " '10-06-2014' '13-08-2014' '24-03-2014' '16-11-2014' '19-06-2014'\n",
      " '17-06-2014' '08-11-2014' '16-01-2014' '22-09-2014' '08-03-2014'\n",
      " '10-07-2014' '17-05-2014' '07-02-2014' '23-11-2014' '04-01-2014'\n",
      " '24-06-2014' '10-08-2014' '13-11-2014' '10-09-2014' '25-04-2014'\n",
      " '09-02-2014' '24-11-2014' '01-04-2014' '19-09-2014' '05-12-2014'\n",
      " '01-11-2014' '06-04-2014' '21-07-2014' '15-10-2014' '26-04-2014'\n",
      " '01-05-2014' '26-03-2014' '27-08-2014' '07-10-2014' '17-11-2014'\n",
      " '15-02-2014' '18-10-2014' '01-09-2014' '02-07-2014' '14-09-2014'\n",
      " '12-08-2014' '31-05-2014' '30-11-2014' '27-04-2014' '21-12-2014'\n",
      " '22-05-2014' '12-12-2014' '03-12-2014' '09-03-2014' '16-07-2014'\n",
      " '23-04-2014' '11-11-2014' '15-05-2014' '28-06-2014' '18-08-2014'\n",
      " '25-11-2014' '03-11-2014' '19-07-2014' '11-02-2014' '15-09-2014'\n",
      " '10-02-2014' '29-06-2014' '12-11-2014']\n",
      "itemDescription ['tropical fruit' 'whole milk' 'pip fruit' 'other vegetables' 'rolls/buns'\n",
      " 'pot plants' 'citrus fruit' 'beef' 'frankfurter' 'chicken' 'butter'\n",
      " 'fruit/vegetable juice' 'packaged fruit/vegetables' 'chocolate'\n",
      " 'specialty bar' 'butter milk' 'bottled water' 'yogurt' 'sausage'\n",
      " 'brown bread' 'hamburger meat' 'root vegetables' 'pork' 'pastry'\n",
      " 'canned beer' 'berries' 'coffee' 'misc. beverages' 'ham' 'turkey'\n",
      " 'curd cheese' 'red/blush wine' 'frozen potato products' 'flour' 'sugar'\n",
      " 'frozen meals' 'herbs' 'soda' 'detergent' 'grapes' 'processed cheese'\n",
      " 'fish' 'sparkling wine' 'newspapers' 'curd' 'pasta' 'popcorn'\n",
      " 'finished products' 'beverages' 'bottled beer' 'dessert' 'dog food'\n",
      " 'specialty chocolate' 'condensed milk' 'cleaner' 'white wine' 'meat'\n",
      " 'ice cream' 'hard cheese' 'cream cheese ' 'liquor' 'pickled vegetables'\n",
      " 'liquor (appetizer)' 'UHT-milk' 'candy' 'onions' 'hair spray'\n",
      " 'photo/film' 'domestic eggs' 'margarine' 'shopping bags' 'salt' 'oil'\n",
      " 'whipped/sour cream' 'frozen vegetables' 'sliced cheese' 'dish cleaner'\n",
      " 'baking powder' 'specialty cheese' 'salty snack' 'Instant food products'\n",
      " 'pet care' 'white bread' 'female sanitary products' 'cling film/bags'\n",
      " 'soap' 'frozen chicken' 'house keeping products' 'spread cheese'\n",
      " 'decalcifier' 'frozen dessert' 'vinegar' 'nuts/prunes' 'potato products'\n",
      " 'frozen fish' 'hygiene articles' 'artif. sweetener' 'light bulbs'\n",
      " 'canned vegetables' 'chewing gum' 'canned fish' 'cookware'\n",
      " 'semi-finished bread' 'cat food' 'bathroom cleaner' 'prosecco'\n",
      " 'liver loaf' 'zwieback' 'canned fruit' 'frozen fruits' 'brandy'\n",
      " 'baby cosmetics' 'spices' 'napkins' 'waffles' 'sauces' 'rum'\n",
      " 'chocolate marshmallow' 'long life bakery product' 'bags' 'sweet spreads'\n",
      " 'soups' 'mustard' 'specialty fat' 'instant coffee' 'snack products'\n",
      " 'organic sausage' 'soft cheese' 'mayonnaise' 'dental care'\n",
      " 'roll products ' 'kitchen towels' 'flower soil/fertilizer' 'cereals'\n",
      " 'meat spreads' 'dishes' 'male cosmetics' 'candles' 'whisky' 'tidbits'\n",
      " 'cooking chocolate' 'seasonal products' 'liqueur' 'abrasive cleaner'\n",
      " 'syrup' 'ketchup' 'cream' 'skin care' 'rubbing alcohol' 'nut snack'\n",
      " 'cocoa drinks' 'softener' 'organic products' 'cake bar' 'honey' 'jam'\n",
      " 'kitchen utensil' 'flower (seeds)' 'rice' 'tea' 'salad dressing'\n",
      " 'specialty vegetables' 'pudding powder' 'ready soups' 'make up remover'\n",
      " 'toilet cleaner' 'preservation products']\n"
     ]
    }
   ],
   "source": [
    "# Check unique values for each column\n",
    "for col in data.columns:\n",
    "    print(col, data[col].unique())\n"
   ]
  },
  {
   "cell_type": "markdown",
   "metadata": {},
   "source": [
    "## Get frequency of items"
   ]
  },
  {
   "cell_type": "code",
   "execution_count": 7,
   "metadata": {},
   "outputs": [],
   "source": [
    "# Count the frequency of each item\n",
    "item_counts = data['itemDescription'].value_counts()"
   ]
  },
  {
   "cell_type": "code",
   "execution_count": 8,
   "metadata": {},
   "outputs": [
    {
     "data": {
      "image/png": "[encoded data removed]",
      "text/plain": [
       "<Figure size 1000x500 with 1 Axes>"
      ]
     },
     "metadata": {},
     "output_type": "display_data"
    }
   ],
   "source": [
    "# Plot the top 50 most frequent items\n",
    "plt.figure(figsize=(10, 5))\n",
    "plt.bar(item_counts.index[:50], item_counts[:50])\n",
    "plt.xticks(rotation=90)\n",
    "plt.xlabel('Item Description')\n",
    "plt.ylabel('Frequency')\n",
    "plt.title('Top 50 Most Frequent Items')\n",
    "plt.show()"
   ]
  },
  {
   "cell_type": "code",
   "execution_count": 9,
   "metadata": {},
   "outputs": [
    {
     "data": {
      "image/png": "[encoded data removed]",
      "text/plain": [
       "<Figure size 1000x500 with 1 Axes>"
      ]
     },
     "metadata": {},
     "output_type": "display_data"
    }
   ],
   "source": [
    "# Plot the 50 least frequent items\n",
    "plt.figure(figsize=(10, 5))\n",
    "plt.bar(item_counts.index[-50:], item_counts[-50:])\n",
    "plt.xticks(rotation=90)\n",
    "plt.xlabel('Item Description')\n",
    "plt.ylabel('Frequency')\n",
    "plt.title('50 Least Frequent Items')\n",
    "plt.show()"
   ]
  },
  {
   "cell_type": "code",
   "execution_count": 10,
   "metadata": {},
   "outputs": [
    {
     "data": {
      "text/plain": [
       "count     167.000000\n",
       "mean      232.125749\n",
       "std       363.442098\n",
       "min         1.000000\n",
       "25%        30.500000\n",
       "50%        85.000000\n",
       "75%       264.000000\n",
       "max      2502.000000\n",
       "Name: count, dtype: float64"
      ]
     },
     "execution_count": 10,
     "metadata": {},
     "output_type": "execute_result"
    }
   ],
   "source": [
    "# Show statistics of the item counts\n",
    "item_counts.describe()"
   ]
  },
  {
   "cell_type": "code",
   "execution_count": 11,
   "metadata": {},
   "outputs": [
    {
     "data": {
      "image/png": "[encoded data removed]",
      "text/plain": [
       "<Figure size 1000x500 with 1 Axes>"
      ]
     },
     "metadata": {},
     "output_type": "display_data"
    }
   ],
   "source": [
    "# Plot the distribution of the number of items per transaction by member by date\n",
    "plt.figure(figsize=(10, 5))\n",
    "plt.hist(data.groupby(['Member_number', 'Date']).size(), bins=50)\n",
    "plt.xlabel('Number of Items')\n",
    "plt.ylabel('Frequency')\n",
    "plt.title('Distribution of Number of Items per Transaction by Member by Date')\n",
    "plt.show()"
   ]
  },
  {
   "cell_type": "markdown",
   "metadata": {},
   "source": [
    "# Data pre-processing"
   ]
  },
  {
   "cell_type": "markdown",
   "metadata": {},
   "source": [
    "## Drop records of items below the 75 percentile to reduce dimensionality"
   ]
  },
  {
   "cell_type": "markdown",
   "metadata": {},
   "source": [
    "As we are focused on comparing the performance of Apriori and brute-force, and not the associations of items, the impact from deletion resulting in the lost of association or items does not affect the aim of this assignment."
   ]
  },
  {
   "cell_type": "code",
   "execution_count": 12,
   "metadata": {},
   "outputs": [
    {
     "name": "stdout",
     "output_type": "stream",
     "text": [
      "(38765, 3)\n",
      "(28984, 3)\n",
      "Number of unique items in original: 167\n",
      "Number of unique items in filtered: 42\n"
     ]
    }
   ],
   "source": [
    "# Get items less than 75 percentiles\n",
    "items_low_freq = item_counts[item_counts < item_counts.quantile(0.75)]\n",
    "\n",
    "# Delete records of items in the low frequency list\n",
    "data_items_filtered = data[~data['itemDescription'].isin(items_low_freq.index)]\n",
    "\n",
    "# Compare the shape of the original dataset and the filtered dataset\n",
    "print(data.shape)\n",
    "print(data_items_filtered.shape)\n",
    "\n",
    "# Get the number of unique items\n",
    "print('Number of unique items in original:', len(data['itemDescription'].unique()))\n",
    "print('Number of unique items in filtered:', len(data_items_filtered['itemDescription'].unique()))\n"
   ]
  },
  {
   "cell_type": "markdown",
   "metadata": {},
   "source": [
    "## Group records into transactions by date and member number"
   ]
  },
  {
   "cell_type": "code",
   "execution_count": 13,
   "metadata": {},
   "outputs": [
    {
     "name": "stdout",
     "output_type": "stream",
     "text": [
      "(14278, 3)\n"
     ]
    },
    {
     "data": {
      "text/html": [
       "<div>\n",
       "<style scoped>\n",
       "    .dataframe tbody tr th:only-of-type {\n",
       "        vertical-align: middle;\n",
       "    }\n",
       "\n",
       "    .dataframe tbody tr th {\n",
       "        vertical-align: top;\n",
       "    }\n",
       "\n",
       "    .dataframe thead th {\n",
       "        text-align: right;\n",
       "    }\n",
       "</style>\n",
       "<table border=\"1\" class=\"dataframe\">\n",
       "  <thead>\n",
       "    <tr style=\"text-align: right;\">\n",
       "      <th></th>\n",
       "      <th>Member_number</th>\n",
       "      <th>Date</th>\n",
       "      <th>items</th>\n",
       "    </tr>\n",
       "  </thead>\n",
       "  <tbody>\n",
       "    <tr>\n",
       "      <th>0</th>\n",
       "      <td>1000</td>\n",
       "      <td>15-03-2015</td>\n",
       "      <td>[sausage, whole milk, yogurt]</td>\n",
       "    </tr>\n",
       "    <tr>\n",
       "      <th>1</th>\n",
       "      <td>1000</td>\n",
       "      <td>24-06-2014</td>\n",
       "      <td>[whole milk, pastry, salty snack]</td>\n",
       "    </tr>\n",
       "    <tr>\n",
       "      <th>2</th>\n",
       "      <td>1000</td>\n",
       "      <td>24-07-2015</td>\n",
       "      <td>[canned beer]</td>\n",
       "    </tr>\n",
       "    <tr>\n",
       "      <th>3</th>\n",
       "      <td>1000</td>\n",
       "      <td>25-11-2015</td>\n",
       "      <td>[sausage]</td>\n",
       "    </tr>\n",
       "    <tr>\n",
       "      <th>4</th>\n",
       "      <td>1000</td>\n",
       "      <td>27-05-2015</td>\n",
       "      <td>[soda]</td>\n",
       "    </tr>\n",
       "  </tbody>\n",
       "</table>\n",
       "</div>"
      ],
      "text/plain": [
       "   Member_number        Date                              items\n",
       "0           1000  15-03-2015      [sausage, whole milk, yogurt]\n",
       "1           1000  24-06-2014  [whole milk, pastry, salty snack]\n",
       "2           1000  24-07-2015                      [canned beer]\n",
       "3           1000  25-11-2015                          [sausage]\n",
       "4           1000  27-05-2015                             [soda]"
      ]
     },
     "execution_count": 13,
     "metadata": {},
     "output_type": "execute_result"
    }
   ],
   "source": [
    "# Group by date and member number, and covert items to a list\n",
    "data_transactions = data_items_filtered.groupby(['Member_number', 'Date'])['itemDescription'].apply(list).reset_index(name='items')\n",
    "\n",
    "print(data_transactions.shape)\n",
    "\n",
    "data_transactions.head()"
   ]
  },
  {
   "cell_type": "markdown",
   "metadata": {},
   "source": [
    "## One-hot encoding of the dataset organized into transactions"
   ]
  },
  {
   "cell_type": "code",
   "execution_count": 14,
   "metadata": {},
   "outputs": [
    {
     "name": "stdout",
     "output_type": "stream",
     "text": [
      "['sausage' 'whole milk' 'yogurt' 'pastry' 'salty snack' 'canned beer'\n",
      " 'soda' 'frankfurter' 'curd' 'rolls/buns' 'beef' 'white bread'\n",
      " 'whipped/sour cream' 'frozen vegetables' 'other vegetables' 'butter'\n",
      " 'tropical fruit' 'sugar' 'root vegetables' 'pip fruit' 'chocolate'\n",
      " 'shopping bags' 'margarine' 'bottled water' 'chicken' 'bottled beer'\n",
      " 'hamburger meat' 'dessert' 'domestic eggs' 'newspapers' 'coffee'\n",
      " 'UHT-milk' 'citrus fruit' 'onions' 'brown bread' 'napkins'\n",
      " 'fruit/vegetable juice' 'long life bakery product' 'berries'\n",
      " 'cream cheese ' 'pork' 'waffles']\n",
      "42\n"
     ]
    }
   ],
   "source": [
    "# Get unique items\n",
    "data_items = data_transactions['items'].explode().unique()\n",
    "\n",
    "print(data_items)\n",
    "print(len(data_items))\n"
   ]
  },
  {
   "cell_type": "code",
   "execution_count": 15,
   "metadata": {},
   "outputs": [
    {
     "name": "stdout",
     "output_type": "stream",
     "text": [
      "Index(['whole milk', 'other vegetables', 'rolls/buns', 'soda', 'yogurt',\n",
      "       'root vegetables', 'tropical fruit', 'bottled water', 'sausage',\n",
      "       'citrus fruit', 'pastry', 'pip fruit', 'shopping bags', 'canned beer',\n",
      "       'bottled beer', 'whipped/sour cream', 'newspapers', 'frankfurter',\n",
      "       'brown bread', 'pork', 'domestic eggs', 'butter',\n",
      "       'fruit/vegetable juice', 'beef', 'curd', 'margarine', 'coffee',\n",
      "       'frozen vegetables', 'chicken', 'white bread', 'cream cheese ',\n",
      "       'chocolate', 'dessert', 'napkins', 'berries', 'hamburger meat',\n",
      "       'UHT-milk', 'onions', 'salty snack', 'waffles',\n",
      "       'long life bakery product', 'sugar'],\n",
      "      dtype='object', name='items')\n"
     ]
    }
   ],
   "source": [
    "# Sort data_items by count so place higher frequency towards the left most columns, for higher support and confidence\n",
    "data_items_sorted = data_transactions['items'].explode().value_counts().sort_values(ascending=False).index\n",
    "\n",
    "print(data_items_sorted)"
   ]
  },
  {
   "cell_type": "code",
   "execution_count": 16,
   "metadata": {},
   "outputs": [],
   "source": [
    "# Create a one-hot encoded dataframe with items as columns, so that the same width of columns is maintained\n",
    "data_transactions_encoded = pd.DataFrame(columns=['Date', 'Member_number'] + list(data_items_sorted))\n",
    "\n",
    "# Length of items\n",
    "n_items = len(data_items_sorted)\n",
    "\n",
    "for i in range(data_transactions.shape[0]):\n",
    "    row = data_transactions.iloc[i]\n",
    "    data_transactions_encoded.loc[i] = [row['Date'], row['Member_number']] + [False] * n_items\n",
    "    for item in row['items']:\n",
    "        data_transactions_encoded.loc[i, item] = True\n"
   ]
  },
  {
   "cell_type": "code",
   "execution_count": 17,
   "metadata": {},
   "outputs": [
    {
     "data": {
      "text/html": [
       "<div>\n",
       "<style scoped>\n",
       "    .dataframe tbody tr th:only-of-type {\n",
       "        vertical-align: middle;\n",
       "    }\n",
       "\n",
       "    .dataframe tbody tr th {\n",
       "        vertical-align: top;\n",
       "    }\n",
       "\n",
       "    .dataframe thead th {\n",
       "        text-align: right;\n",
       "    }\n",
       "</style>\n",
       "<table border=\"1\" class=\"dataframe\">\n",
       "  <thead>\n",
       "    <tr style=\"text-align: right;\">\n",
       "      <th></th>\n",
       "      <th>Date</th>\n",
       "      <th>Member_number</th>\n",
       "      <th>whole milk</th>\n",
       "      <th>other vegetables</th>\n",
       "      <th>rolls/buns</th>\n",
       "      <th>soda</th>\n",
       "      <th>yogurt</th>\n",
       "      <th>root vegetables</th>\n",
       "      <th>tropical fruit</th>\n",
       "      <th>bottled water</th>\n",
       "      <th>...</th>\n",
       "      <th>dessert</th>\n",
       "      <th>napkins</th>\n",
       "      <th>berries</th>\n",
       "      <th>hamburger meat</th>\n",
       "      <th>UHT-milk</th>\n",
       "      <th>onions</th>\n",
       "      <th>salty snack</th>\n",
       "      <th>waffles</th>\n",
       "      <th>long life bakery product</th>\n",
       "      <th>sugar</th>\n",
       "    </tr>\n",
       "  </thead>\n",
       "  <tbody>\n",
       "    <tr>\n",
       "      <th>0</th>\n",
       "      <td>15-03-2015</td>\n",
       "      <td>1000</td>\n",
       "      <td>True</td>\n",
       "      <td>False</td>\n",
       "      <td>False</td>\n",
       "      <td>False</td>\n",
       "      <td>True</td>\n",
       "      <td>False</td>\n",
       "      <td>False</td>\n",
       "      <td>False</td>\n",
       "      <td>...</td>\n",
       "      <td>False</td>\n",
       "      <td>False</td>\n",
       "      <td>False</td>\n",
       "      <td>False</td>\n",
       "      <td>False</td>\n",
       "      <td>False</td>\n",
       "      <td>False</td>\n",
       "      <td>False</td>\n",
       "      <td>False</td>\n",
       "      <td>False</td>\n",
       "    </tr>\n",
       "    <tr>\n",
       "      <th>1</th>\n",
       "      <td>24-06-2014</td>\n",
       "      <td>1000</td>\n",
       "      <td>True</td>\n",
       "      <td>False</td>\n",
       "      <td>False</td>\n",
       "      <td>False</td>\n",
       "      <td>False</td>\n",
       "      <td>False</td>\n",
       "      <td>False</td>\n",
       "      <td>False</td>\n",
       "      <td>...</td>\n",
       "      <td>False</td>\n",
       "      <td>False</td>\n",
       "      <td>False</td>\n",
       "      <td>False</td>\n",
       "      <td>False</td>\n",
       "      <td>False</td>\n",
       "      <td>True</td>\n",
       "      <td>False</td>\n",
       "      <td>False</td>\n",
       "      <td>False</td>\n",
       "    </tr>\n",
       "    <tr>\n",
       "      <th>2</th>\n",
       "      <td>24-07-2015</td>\n",
       "      <td>1000</td>\n",
       "      <td>False</td>\n",
       "      <td>False</td>\n",
       "      <td>False</td>\n",
       "      <td>False</td>\n",
       "      <td>False</td>\n",
       "      <td>False</td>\n",
       "      <td>False</td>\n",
       "      <td>False</td>\n",
       "      <td>...</td>\n",
       "      <td>False</td>\n",
       "      <td>False</td>\n",
       "      <td>False</td>\n",
       "      <td>False</td>\n",
       "      <td>False</td>\n",
       "      <td>False</td>\n",
       "      <td>False</td>\n",
       "      <td>False</td>\n",
       "      <td>False</td>\n",
       "      <td>False</td>\n",
       "    </tr>\n",
       "    <tr>\n",
       "      <th>3</th>\n",
       "      <td>25-11-2015</td>\n",
       "      <td>1000</td>\n",
       "      <td>False</td>\n",
       "      <td>False</td>\n",
       "      <td>False</td>\n",
       "      <td>False</td>\n",
       "      <td>False</td>\n",
       "      <td>False</td>\n",
       "      <td>False</td>\n",
       "      <td>False</td>\n",
       "      <td>...</td>\n",
       "      <td>False</td>\n",
       "      <td>False</td>\n",
       "      <td>False</td>\n",
       "      <td>False</td>\n",
       "      <td>False</td>\n",
       "      <td>False</td>\n",
       "      <td>False</td>\n",
       "      <td>False</td>\n",
       "      <td>False</td>\n",
       "      <td>False</td>\n",
       "    </tr>\n",
       "    <tr>\n",
       "      <th>4</th>\n",
       "      <td>27-05-2015</td>\n",
       "      <td>1000</td>\n",
       "      <td>False</td>\n",
       "      <td>False</td>\n",
       "      <td>False</td>\n",
       "      <td>True</td>\n",
       "      <td>False</td>\n",
       "      <td>False</td>\n",
       "      <td>False</td>\n",
       "      <td>False</td>\n",
       "      <td>...</td>\n",
       "      <td>False</td>\n",
       "      <td>False</td>\n",
       "      <td>False</td>\n",
       "      <td>False</td>\n",
       "      <td>False</td>\n",
       "      <td>False</td>\n",
       "      <td>False</td>\n",
       "      <td>False</td>\n",
       "      <td>False</td>\n",
       "      <td>False</td>\n",
       "    </tr>\n",
       "  </tbody>\n",
       "</table>\n",
       "<p>5 rows × 44 columns</p>\n",
       "</div>"
      ],
      "text/plain": [
       "         Date  Member_number  whole milk  other vegetables  rolls/buns   soda  \\\n",
       "0  15-03-2015           1000        True             False       False  False   \n",
       "1  24-06-2014           1000        True             False       False  False   \n",
       "2  24-07-2015           1000       False             False       False  False   \n",
       "3  25-11-2015           1000       False             False       False  False   \n",
       "4  27-05-2015           1000       False             False       False   True   \n",
       "\n",
       "   yogurt  root vegetables  tropical fruit  bottled water  ...  dessert  \\\n",
       "0    True            False           False          False  ...    False   \n",
       "1   False            False           False          False  ...    False   \n",
       "2   False            False           False          False  ...    False   \n",
       "3   False            False           False          False  ...    False   \n",
       "4   False            False           False          False  ...    False   \n",
       "\n",
       "   napkins  berries  hamburger meat  UHT-milk  onions  salty snack  waffles  \\\n",
       "0    False    False           False     False   False        False    False   \n",
       "1    False    False           False     False   False         True    False   \n",
       "2    False    False           False     False   False        False    False   \n",
       "3    False    False           False     False   False        False    False   \n",
       "4    False    False           False     False   False        False    False   \n",
       "\n",
       "   long life bakery product  sugar  \n",
       "0                     False  False  \n",
       "1                     False  False  \n",
       "2                     False  False  \n",
       "3                     False  False  \n",
       "4                     False  False  \n",
       "\n",
       "[5 rows x 44 columns]"
      ]
     },
     "execution_count": 17,
     "metadata": {},
     "output_type": "execute_result"
    }
   ],
   "source": [
    "# Display the encoded dataframe\n",
    "data_transactions_encoded.head()"
   ]
  },
  {
   "cell_type": "markdown",
   "metadata": {},
   "source": [
    "# Develop/ test association rule algorithm"
   ]
  },
  {
   "cell_type": "markdown",
   "metadata": {},
   "source": [
    "## Test apriori algorithm on subset of dataset"
   ]
  },
  {
   "cell_type": "code",
   "execution_count": 18,
   "metadata": {},
   "outputs": [
    {
     "name": "stdout",
     "output_type": "stream",
     "text": [
      "Time to execute apriori algorithm: 0.0069539546966552734\n"
     ]
    }
   ],
   "source": [
    "# Function to execute Apriori algorithm\n",
    "def execute_apriori(data, min_support, min_confidence):\n",
    "\n",
    "    # Capture time to execute apriori algorithm\n",
    "    start_time = time.time()\n",
    "\n",
    "    # Apply apriori algorithm to find frequent itemsets on subset of data by min support\n",
    "    frequent_itemsets = apriori(data_transactions_encoded.iloc[:n_transactions, 2:n_items+2], min_support=0.01, use_colnames=True)\n",
    "\n",
    "    time_frequent_itemsets = time.time() - start_time\n",
    "\n",
    "    start_time = time.time()\n",
    "\n",
    "    # Generate association rules from frequent itemsets\n",
    "    rules = association_rules(frequent_itemsets, metric='confidence', min_threshold=0.01)\n",
    "\n",
    "    time_association_rules = time.time() - start_time\n",
    "\n",
    "    # Print time to execute apriori algorithm\n",
    "    print('Time to execute apriori algorithm:', time_frequent_itemsets + time_association_rules)\n",
    "\n",
    "    return frequent_itemsets, rules, time_frequent_itemsets, time_association_rules\n",
    "\n",
    "# Set number of transactions and items to include in the subset\n",
    "n_transactions = 10\n",
    "n_items = 4\n",
    "\n",
    "# Execute apriori algorithm\n",
    "test_apriori_frequent_itemsets, test_apriori_rules, test_apriori_time_frequent_itemsets, test_apriori_time_association_rules = execute_apriori(data_transactions_encoded, min_support=0.01, min_confidence=0.01)\n"
   ]
  },
  {
   "cell_type": "code",
   "execution_count": 19,
   "metadata": {},
   "outputs": [
    {
     "data": {
      "text/html": [
       "<div>\n",
       "<style scoped>\n",
       "    .dataframe tbody tr th:only-of-type {\n",
       "        vertical-align: middle;\n",
       "    }\n",
       "\n",
       "    .dataframe tbody tr th {\n",
       "        vertical-align: top;\n",
       "    }\n",
       "\n",
       "    .dataframe thead th {\n",
       "        text-align: right;\n",
       "    }\n",
       "</style>\n",
       "<table border=\"1\" class=\"dataframe\">\n",
       "  <thead>\n",
       "    <tr style=\"text-align: right;\">\n",
       "      <th></th>\n",
       "      <th>support</th>\n",
       "      <th>itemsets</th>\n",
       "    </tr>\n",
       "  </thead>\n",
       "  <tbody>\n",
       "    <tr>\n",
       "      <th>0</th>\n",
       "      <td>0.4</td>\n",
       "      <td>(whole milk)</td>\n",
       "    </tr>\n",
       "    <tr>\n",
       "      <th>1</th>\n",
       "      <td>0.1</td>\n",
       "      <td>(rolls/buns)</td>\n",
       "    </tr>\n",
       "    <tr>\n",
       "      <th>2</th>\n",
       "      <td>0.3</td>\n",
       "      <td>(soda)</td>\n",
       "    </tr>\n",
       "    <tr>\n",
       "      <th>3</th>\n",
       "      <td>0.1</td>\n",
       "      <td>(whole milk, rolls/buns)</td>\n",
       "    </tr>\n",
       "    <tr>\n",
       "      <th>4</th>\n",
       "      <td>0.1</td>\n",
       "      <td>(whole milk, soda)</td>\n",
       "    </tr>\n",
       "  </tbody>\n",
       "</table>\n",
       "</div>"
      ],
      "text/plain": [
       "   support                  itemsets\n",
       "0      0.4              (whole milk)\n",
       "1      0.1              (rolls/buns)\n",
       "2      0.3                    (soda)\n",
       "3      0.1  (whole milk, rolls/buns)\n",
       "4      0.1        (whole milk, soda)"
      ]
     },
     "execution_count": 19,
     "metadata": {},
     "output_type": "execute_result"
    }
   ],
   "source": [
    "# Display frequent itemsets\n",
    "test_apriori_frequent_itemsets.head()"
   ]
  },
  {
   "cell_type": "code",
   "execution_count": 20,
   "metadata": {},
   "outputs": [
    {
     "data": {
      "text/html": [
       "<div>\n",
       "<style scoped>\n",
       "    .dataframe tbody tr th:only-of-type {\n",
       "        vertical-align: middle;\n",
       "    }\n",
       "\n",
       "    .dataframe tbody tr th {\n",
       "        vertical-align: top;\n",
       "    }\n",
       "\n",
       "    .dataframe thead th {\n",
       "        text-align: right;\n",
       "    }\n",
       "</style>\n",
       "<table border=\"1\" class=\"dataframe\">\n",
       "  <thead>\n",
       "    <tr style=\"text-align: right;\">\n",
       "      <th></th>\n",
       "      <th>antecedents</th>\n",
       "      <th>consequents</th>\n",
       "      <th>antecedent support</th>\n",
       "      <th>consequent support</th>\n",
       "      <th>support</th>\n",
       "      <th>confidence</th>\n",
       "      <th>lift</th>\n",
       "      <th>leverage</th>\n",
       "      <th>conviction</th>\n",
       "      <th>zhangs_metric</th>\n",
       "    </tr>\n",
       "  </thead>\n",
       "  <tbody>\n",
       "    <tr>\n",
       "      <th>0</th>\n",
       "      <td>(whole milk)</td>\n",
       "      <td>(rolls/buns)</td>\n",
       "      <td>0.4</td>\n",
       "      <td>0.1</td>\n",
       "      <td>0.1</td>\n",
       "      <td>0.250000</td>\n",
       "      <td>2.500000</td>\n",
       "      <td>0.06</td>\n",
       "      <td>1.200000</td>\n",
       "      <td>1.000000</td>\n",
       "    </tr>\n",
       "    <tr>\n",
       "      <th>1</th>\n",
       "      <td>(rolls/buns)</td>\n",
       "      <td>(whole milk)</td>\n",
       "      <td>0.1</td>\n",
       "      <td>0.4</td>\n",
       "      <td>0.1</td>\n",
       "      <td>1.000000</td>\n",
       "      <td>2.500000</td>\n",
       "      <td>0.06</td>\n",
       "      <td>inf</td>\n",
       "      <td>0.666667</td>\n",
       "    </tr>\n",
       "    <tr>\n",
       "      <th>2</th>\n",
       "      <td>(whole milk)</td>\n",
       "      <td>(soda)</td>\n",
       "      <td>0.4</td>\n",
       "      <td>0.3</td>\n",
       "      <td>0.1</td>\n",
       "      <td>0.250000</td>\n",
       "      <td>0.833333</td>\n",
       "      <td>-0.02</td>\n",
       "      <td>0.933333</td>\n",
       "      <td>-0.250000</td>\n",
       "    </tr>\n",
       "    <tr>\n",
       "      <th>3</th>\n",
       "      <td>(soda)</td>\n",
       "      <td>(whole milk)</td>\n",
       "      <td>0.3</td>\n",
       "      <td>0.4</td>\n",
       "      <td>0.1</td>\n",
       "      <td>0.333333</td>\n",
       "      <td>0.833333</td>\n",
       "      <td>-0.02</td>\n",
       "      <td>0.900000</td>\n",
       "      <td>-0.222222</td>\n",
       "    </tr>\n",
       "  </tbody>\n",
       "</table>\n",
       "</div>"
      ],
      "text/plain": [
       "    antecedents   consequents  antecedent support  consequent support  \\\n",
       "0  (whole milk)  (rolls/buns)                 0.4                 0.1   \n",
       "1  (rolls/buns)  (whole milk)                 0.1                 0.4   \n",
       "2  (whole milk)        (soda)                 0.4                 0.3   \n",
       "3        (soda)  (whole milk)                 0.3                 0.4   \n",
       "\n",
       "   support  confidence      lift  leverage  conviction  zhangs_metric  \n",
       "0      0.1    0.250000  2.500000      0.06    1.200000       1.000000  \n",
       "1      0.1    1.000000  2.500000      0.06         inf       0.666667  \n",
       "2      0.1    0.250000  0.833333     -0.02    0.933333      -0.250000  \n",
       "3      0.1    0.333333  0.833333     -0.02    0.900000      -0.222222  "
      ]
     },
     "execution_count": 20,
     "metadata": {},
     "output_type": "execute_result"
    }
   ],
   "source": [
    "# Display association rules\n",
    "test_apriori_rules.head()"
   ]
  },
  {
   "cell_type": "markdown",
   "metadata": {},
   "source": [
    "## Function to perform association rule by brute-force"
   ]
  },
  {
   "cell_type": "markdown",
   "metadata": {},
   "source": [
    "The brute-force output is attempting to match the output of apriori algorithm output from mlxtend so as to simulate similar computations load with formulas in association rules taken from Bismi, I. (2023, April 10). How to perform Market Basket Analysis using Apriori Algorithm and Association Rules. Medium. https://medium.com/@iqra.bismi/how-to-perform-market-basket-analysis-using-apriori-algorithm-and-association-rules-3f6ba61d6e4b\n",
    ".\n"
   ]
  },
  {
   "cell_type": "code",
   "execution_count": 21,
   "metadata": {},
   "outputs": [],
   "source": [
    "# Function to generate frequent itemsets\n",
    "def generate_frequent_itemsets(data, min_support=0.01):\n",
    "    # Initialize variables for frequent and complete itemsets\n",
    "    frequent_itemsets = pd.DataFrame(columns=['support', 'itemsets'])\n",
    "    all_itemsets = []\n",
    "\n",
    "    # Compute min support count\n",
    "    min_support_count = min_support * data.shape[0]\n",
    "\n",
    "    # Get unique items\n",
    "    items = data.columns\n",
    "\n",
    "    for i in range(1, len(items) + 1):\n",
    "        for itemset in itertools.combinations(items, i):\n",
    "            # Compute support\n",
    "            support = data[list(itemset)].all(axis=1).sum()\n",
    "            if support >= min_support_count:\n",
    "                frequent_itemsets.loc[len(frequent_itemsets)] = [support / data.shape[0], itemset]\n",
    "            all_itemsets.append(itemset)\n",
    "    \n",
    "    return frequent_itemsets, all_itemsets\n",
    "\n",
    "# Function to perform association rule by brute force\n",
    "def assocation_rules_brute_force(data, min_support=0.01, min_confidence=None):\n",
    "\n",
    "    # Initialize association rules\n",
    "    rules = pd.DataFrame(columns=['antecedents', 'consequents', 'antecedent support', 'consequent support', 'support', 'confidence', 'lift', 'leverage', 'conviction', 'zhang'])\n",
    "\n",
    "    # Compute time to execute frequent itemsets and association rules\n",
    "    start_time = time.time()\n",
    "\n",
    "    # Compute frequent itemsets\n",
    "    frequent_itemsets, all_itemsets = generate_frequent_itemsets(data, min_support)\n",
    "\n",
    "    time_frequent_itemsets = time.time() - start_time\n",
    "\n",
    "    start_time = time.time()\n",
    "\n",
    "    # Compute association rules\n",
    "    for i in range(frequent_itemsets.shape[0]):\n",
    "        frequent_itemset = frequent_itemsets.iloc[i]\n",
    "        for j in range(1, len(frequent_itemset['itemsets'])):\n",
    "            # Generate possible parent itemsets\n",
    "            for antecedent in itertools.combinations(frequent_itemset['itemsets'], j):\n",
    "                antecedent = set(antecedent)\n",
    "                consequent = set(frequent_itemset['itemsets']) - antecedent\n",
    "                antecedent_support = data[list(antecedent)].all(axis=1).sum() / data.shape[0]\n",
    "                consequent_support = data[list(consequent)].all(axis=1).sum() / data.shape[0]\n",
    "                support = frequent_itemset['support']\n",
    "                if antecedent_support != 0 and not np.isnan(antecedent_support):\n",
    "                    confidence = support / antecedent_support\n",
    "                else:\n",
    "                    # set confidence to infinity\n",
    "                    confidence = np.inf\n",
    "                if consequent_support != 0 and not np.isnan(consequent_support) and confidence != np.inf:\n",
    "                    lift = confidence / consequent_support\n",
    "                else:\n",
    "                    # set lift to infinity\n",
    "                    lift = np.inf\n",
    "                leverage = support - antecedent_support * consequent_support\n",
    "                if confidence != 1 and not np.isnan(confidence) and not np.isinf(confidence):\n",
    "                    conviction = (1 - consequent_support) / (1 - confidence)\n",
    "                else:\n",
    "                    conviction = 0\n",
    "                if antecedent_support * consequent_support != 0:\n",
    "                    zhangs_metric = (support - antecedent_support * consequent_support) / (1 - antecedent_support * consequent_support)\n",
    "                else:\n",
    "                    zhangs_metric = 0\n",
    "                if min_confidence is None:\n",
    "                    rules.loc[len(rules)] = [antecedent, consequent, antecedent_support, consequent_support, support, confidence, lift, leverage, conviction, zhangs_metric]\n",
    "                else:\n",
    "                    if not np.isnan(confidence) and not np.isinf(confidence) and confidence >= min_confidence:\n",
    "                        rules.loc[len(rules)] = [antecedent, consequent, antecedent_support, consequent_support, support, confidence, lift, leverage, conviction, zhangs_metric]\n",
    "                    \n",
    "    time_association_rules = time.time() - start_time\n",
    "\n",
    "    # Print time to execute frequent itemsets and association rules\n",
    "    print('Time to execute frequent itemsets and association rules:', time_frequent_itemsets + time_association_rules)\n",
    "\n",
    "    return frequent_itemsets, rules, time_frequent_itemsets, time_association_rules, all_itemsets\n"
   ]
  },
  {
   "cell_type": "markdown",
   "metadata": {},
   "source": [
    "## Test brute force association rule on subset of dataset"
   ]
  },
  {
   "cell_type": "code",
   "execution_count": 22,
   "metadata": {},
   "outputs": [
    {
     "name": "stdout",
     "output_type": "stream",
     "text": [
      "Time to execute frequent itemsets and association rules: 0.022700071334838867\n"
     ]
    }
   ],
   "source": [
    "# Set number of transactions and items to include in the subset\n",
    "n_transactions = 10\n",
    "n_items = 4\n",
    "\n",
    "# Apply brute force algorithm to find frequent itemsets and association rules\n",
    "test_bruteforce_frequent_itemsets, test_bruteforce_rules, test_bruteforce_time_frequent_itemsets, test_bruteforce_time_association_rules, _ = assocation_rules_brute_force(data_transactions_encoded.iloc[:n_transactions, 2:n_items+2], \n",
    "    min_support=0.01, min_confidence=0.01)"
   ]
  },
  {
   "cell_type": "code",
   "execution_count": 23,
   "metadata": {},
   "outputs": [
    {
     "data": {
      "text/html": [
       "<div>\n",
       "<style scoped>\n",
       "    .dataframe tbody tr th:only-of-type {\n",
       "        vertical-align: middle;\n",
       "    }\n",
       "\n",
       "    .dataframe tbody tr th {\n",
       "        vertical-align: top;\n",
       "    }\n",
       "\n",
       "    .dataframe thead th {\n",
       "        text-align: right;\n",
       "    }\n",
       "</style>\n",
       "<table border=\"1\" class=\"dataframe\">\n",
       "  <thead>\n",
       "    <tr style=\"text-align: right;\">\n",
       "      <th></th>\n",
       "      <th>support</th>\n",
       "      <th>itemsets</th>\n",
       "    </tr>\n",
       "  </thead>\n",
       "  <tbody>\n",
       "    <tr>\n",
       "      <th>0</th>\n",
       "      <td>0.4</td>\n",
       "      <td>(whole milk,)</td>\n",
       "    </tr>\n",
       "    <tr>\n",
       "      <th>1</th>\n",
       "      <td>0.1</td>\n",
       "      <td>(rolls/buns,)</td>\n",
       "    </tr>\n",
       "    <tr>\n",
       "      <th>2</th>\n",
       "      <td>0.3</td>\n",
       "      <td>(soda,)</td>\n",
       "    </tr>\n",
       "    <tr>\n",
       "      <th>3</th>\n",
       "      <td>0.1</td>\n",
       "      <td>(whole milk, rolls/buns)</td>\n",
       "    </tr>\n",
       "    <tr>\n",
       "      <th>4</th>\n",
       "      <td>0.1</td>\n",
       "      <td>(whole milk, soda)</td>\n",
       "    </tr>\n",
       "  </tbody>\n",
       "</table>\n",
       "</div>"
      ],
      "text/plain": [
       "   support                  itemsets\n",
       "0      0.4             (whole milk,)\n",
       "1      0.1             (rolls/buns,)\n",
       "2      0.3                   (soda,)\n",
       "3      0.1  (whole milk, rolls/buns)\n",
       "4      0.1        (whole milk, soda)"
      ]
     },
     "execution_count": 23,
     "metadata": {},
     "output_type": "execute_result"
    }
   ],
   "source": [
    "# Display frequent itemsets\n",
    "test_bruteforce_frequent_itemsets.head()"
   ]
  },
  {
   "cell_type": "code",
   "execution_count": 24,
   "metadata": {},
   "outputs": [
    {
     "data": {
      "text/html": [
       "<div>\n",
       "<style scoped>\n",
       "    .dataframe tbody tr th:only-of-type {\n",
       "        vertical-align: middle;\n",
       "    }\n",
       "\n",
       "    .dataframe tbody tr th {\n",
       "        vertical-align: top;\n",
       "    }\n",
       "\n",
       "    .dataframe thead th {\n",
       "        text-align: right;\n",
       "    }\n",
       "</style>\n",
       "<table border=\"1\" class=\"dataframe\">\n",
       "  <thead>\n",
       "    <tr style=\"text-align: right;\">\n",
       "      <th></th>\n",
       "      <th>antecedents</th>\n",
       "      <th>consequents</th>\n",
       "      <th>antecedent support</th>\n",
       "      <th>consequent support</th>\n",
       "      <th>support</th>\n",
       "      <th>confidence</th>\n",
       "      <th>lift</th>\n",
       "      <th>leverage</th>\n",
       "      <th>conviction</th>\n",
       "      <th>zhang</th>\n",
       "    </tr>\n",
       "  </thead>\n",
       "  <tbody>\n",
       "    <tr>\n",
       "      <th>0</th>\n",
       "      <td>{whole milk}</td>\n",
       "      <td>{rolls/buns}</td>\n",
       "      <td>0.4</td>\n",
       "      <td>0.1</td>\n",
       "      <td>0.1</td>\n",
       "      <td>0.250000</td>\n",
       "      <td>2.500000</td>\n",
       "      <td>0.06</td>\n",
       "      <td>1.200000</td>\n",
       "      <td>0.062500</td>\n",
       "    </tr>\n",
       "    <tr>\n",
       "      <th>1</th>\n",
       "      <td>{rolls/buns}</td>\n",
       "      <td>{whole milk}</td>\n",
       "      <td>0.1</td>\n",
       "      <td>0.4</td>\n",
       "      <td>0.1</td>\n",
       "      <td>1.000000</td>\n",
       "      <td>2.500000</td>\n",
       "      <td>0.06</td>\n",
       "      <td>0.000000</td>\n",
       "      <td>0.062500</td>\n",
       "    </tr>\n",
       "    <tr>\n",
       "      <th>2</th>\n",
       "      <td>{whole milk}</td>\n",
       "      <td>{soda}</td>\n",
       "      <td>0.4</td>\n",
       "      <td>0.3</td>\n",
       "      <td>0.1</td>\n",
       "      <td>0.250000</td>\n",
       "      <td>0.833333</td>\n",
       "      <td>-0.02</td>\n",
       "      <td>0.933333</td>\n",
       "      <td>-0.022727</td>\n",
       "    </tr>\n",
       "    <tr>\n",
       "      <th>3</th>\n",
       "      <td>{soda}</td>\n",
       "      <td>{whole milk}</td>\n",
       "      <td>0.3</td>\n",
       "      <td>0.4</td>\n",
       "      <td>0.1</td>\n",
       "      <td>0.333333</td>\n",
       "      <td>0.833333</td>\n",
       "      <td>-0.02</td>\n",
       "      <td>0.900000</td>\n",
       "      <td>-0.022727</td>\n",
       "    </tr>\n",
       "  </tbody>\n",
       "</table>\n",
       "</div>"
      ],
      "text/plain": [
       "    antecedents   consequents  antecedent support  consequent support  \\\n",
       "0  {whole milk}  {rolls/buns}                 0.4                 0.1   \n",
       "1  {rolls/buns}  {whole milk}                 0.1                 0.4   \n",
       "2  {whole milk}        {soda}                 0.4                 0.3   \n",
       "3        {soda}  {whole milk}                 0.3                 0.4   \n",
       "\n",
       "   support  confidence      lift  leverage  conviction     zhang  \n",
       "0      0.1    0.250000  2.500000      0.06    1.200000  0.062500  \n",
       "1      0.1    1.000000  2.500000      0.06    0.000000  0.062500  \n",
       "2      0.1    0.250000  0.833333     -0.02    0.933333 -0.022727  \n",
       "3      0.1    0.333333  0.833333     -0.02    0.900000 -0.022727  "
      ]
     },
     "execution_count": 24,
     "metadata": {},
     "output_type": "execute_result"
    }
   ],
   "source": [
    "# Display association rules\n",
    "test_bruteforce_rules.head()"
   ]
  },
  {
   "cell_type": "markdown",
   "metadata": {},
   "source": [
    "## Check correctness of the brute force algorithm"
   ]
  },
  {
   "cell_type": "markdown",
   "metadata": {},
   "source": [
    "Combination is used as order for items in the basket is not required unlike the position of letters in words (permutation)."
   ]
  },
  {
   "cell_type": "code",
   "execution_count": 25,
   "metadata": {},
   "outputs": [
    {
     "name": "stdout",
     "output_type": "stream",
     "text": [
      "r:  1  n:  4  result:  4.0\n",
      "r:  2  n:  4  result:  6.0\n",
      "r:  3  n:  4  result:  4.0\n",
      "r:  4  n:  4  result:  1.0\n",
      "Number of possible itemsets combinations by calculation:  15.0\n"
     ]
    }
   ],
   "source": [
    "# Formula to compute the number of possible itemsets combinations selecting r items from n items\n",
    "def nCr(n, r):\n",
    "    result = math.factorial(n) / (math.factorial(r) * math.factorial(n - r))\n",
    "    print(\"r: \", r, \" n: \", n, \" result: \", result)\n",
    "    return result\n",
    "\n",
    "# Formula to compute all possible itemsets combinations\n",
    "def nCr_all(n):\n",
    "    return sum([nCr(n, r+1) for r in range(n)])\n",
    "\n",
    "# Compute the number of possible itemsets combinations\n",
    "print(\"Number of possible itemsets combinations by calculation: \", nCr_all(n_items))"
   ]
  },
  {
   "cell_type": "code",
   "execution_count": 26,
   "metadata": {},
   "outputs": [
    {
     "name": "stdout",
     "output_type": "stream",
     "text": [
      "Length of combinations in full:  15\n",
      "Frequency count of each unique combination:  (whole milk,)                                       1\n",
      "(other vegetables,)                                 1\n",
      "(rolls/buns,)                                       1\n",
      "(soda,)                                             1\n",
      "(whole milk, other vegetables)                      1\n",
      "(whole milk, rolls/buns)                            1\n",
      "(whole milk, soda)                                  1\n",
      "(other vegetables, rolls/buns)                      1\n",
      "(other vegetables, soda)                            1\n",
      "(rolls/buns, soda)                                  1\n",
      "(whole milk, other vegetables, rolls/buns)          1\n",
      "(whole milk, other vegetables, soda)                1\n",
      "(whole milk, rolls/buns, soda)                      1\n",
      "(other vegetables, rolls/buns, soda)                1\n",
      "(whole milk, other vegetables, rolls/buns, soda)    1\n",
      "Name: count, dtype: int64\n"
     ]
    }
   ],
   "source": [
    "# Check the combination of the items has no duplicates and is equal to the number of possible itemsets\n",
    "temp_freq_itemsets, temp_full_itemsets = generate_frequent_itemsets(data_transactions_encoded.iloc[:n_transactions, 2:n_items+2], min_support=0.01)\n",
    "\n",
    "print(\"Length of combinations in full: \", len(temp_full_itemsets))\n",
    "print(\"Frequency count of each unique combination: \", pd.Series(temp_full_itemsets).value_counts())"
   ]
  },
  {
   "cell_type": "code",
   "execution_count": 27,
   "metadata": {},
   "outputs": [
    {
     "name": "stdout",
     "output_type": "stream",
     "text": [
      "Apriori frequent itemsets: \n",
      "   support                  itemsets\n",
      "0      0.4              (whole milk)\n",
      "1      0.1              (rolls/buns)\n",
      "2      0.3                    (soda)\n",
      "3      0.1  (whole milk, rolls/buns)\n",
      "4      0.1        (whole milk, soda)\n",
      "\n",
      "\n",
      "Brute force frequent itemsets: \n",
      "   support                  itemsets\n",
      "0      0.4             (whole milk,)\n",
      "1      0.1             (rolls/buns,)\n",
      "2      0.3                   (soda,)\n",
      "3      0.1  (whole milk, rolls/buns)\n",
      "4      0.1        (whole milk, soda)\n"
     ]
    }
   ],
   "source": [
    "# Compare the frequent itemsets generated by brute force and apriori algorithm\n",
    "print(\"Apriori frequent itemsets: \")\n",
    "print(test_apriori_frequent_itemsets)\n",
    "print(\"\\n\")\n",
    "print(\"Brute force frequent itemsets: \")\n",
    "print(test_bruteforce_frequent_itemsets)"
   ]
  },
  {
   "cell_type": "code",
   "execution_count": 28,
   "metadata": {},
   "outputs": [
    {
     "name": "stdout",
     "output_type": "stream",
     "text": [
      "Apriori association rules: \n",
      "    antecedents   consequents  antecedent support  consequent support  \\\n",
      "0  (whole milk)  (rolls/buns)                 0.4                 0.1   \n",
      "1  (rolls/buns)  (whole milk)                 0.1                 0.4   \n",
      "2  (whole milk)        (soda)                 0.4                 0.3   \n",
      "3        (soda)  (whole milk)                 0.3                 0.4   \n",
      "\n",
      "   support  confidence      lift  leverage  conviction  zhangs_metric  \n",
      "0      0.1    0.250000  2.500000      0.06    1.200000       1.000000  \n",
      "1      0.1    1.000000  2.500000      0.06         inf       0.666667  \n",
      "2      0.1    0.250000  0.833333     -0.02    0.933333      -0.250000  \n",
      "3      0.1    0.333333  0.833333     -0.02    0.900000      -0.222222  \n",
      "\n",
      "\n",
      "Brute force association rules: \n",
      "    antecedents   consequents  antecedent support  consequent support  \\\n",
      "0  {whole milk}  {rolls/buns}                 0.4                 0.1   \n",
      "1  {rolls/buns}  {whole milk}                 0.1                 0.4   \n",
      "2  {whole milk}        {soda}                 0.4                 0.3   \n",
      "3        {soda}  {whole milk}                 0.3                 0.4   \n",
      "\n",
      "   support  confidence      lift  leverage  conviction     zhang  \n",
      "0      0.1    0.250000  2.500000      0.06    1.200000  0.062500  \n",
      "1      0.1    1.000000  2.500000      0.06    0.000000  0.062500  \n",
      "2      0.1    0.250000  0.833333     -0.02    0.933333 -0.022727  \n",
      "3      0.1    0.333333  0.833333     -0.02    0.900000 -0.022727  \n"
     ]
    }
   ],
   "source": [
    "# Compare the association rules generated by brute force and apriori algorithm\n",
    "print(\"Apriori association rules: \")\n",
    "print(test_apriori_rules)\n",
    "print(\"\\n\")\n",
    "print(\"Brute force association rules: \")\n",
    "print(test_bruteforce_rules)"
   ]
  },
  {
   "cell_type": "markdown",
   "metadata": {},
   "source": [
    "The possible combinations processed in generate_frequent_itemsets matches the mathematical calculation of all possible combinations as shown above. No repetition of the combination was generated.\n",
    "\n",
    "The results from mlxtend Apriori and brute-force algorithm are identical in terms of frequent itemset and association rules identified.\n",
    "\n",
    "This high level verification provides a confidence of the correct implementation."
   ]
  },
  {
   "cell_type": "markdown",
   "metadata": {},
   "source": [
    "# Perform comparison between Apriori and brute-force association rules"
   ]
  },
  {
   "cell_type": "markdown",
   "metadata": {},
   "source": [
    "## Define some constants to use for comparison"
   ]
  },
  {
   "cell_type": "code",
   "execution_count": 29,
   "metadata": {},
   "outputs": [],
   "source": [
    "# Create list of transactions count to use for each iteration\n",
    "n_iterations = 8\n",
    "n_runs_per_iteration = 3\n",
    "n_transactions_list = [10, 10, 10, 10, 10, 10, 10, 10, 10, 10]\n",
    "n_items_list = [4, 5, 6, 7, 8, 9, 10, 11, 12, 13]\n",
    "min_support = 0.01\n",
    "min_confidence = 0.01\n",
    "\n",
    "# Initialize result variable to store time to execute frequent itemsets, association rules, and total time between apriori and brute force\n",
    "result_apriori = []\n",
    "result_apriori_runs = []\n",
    "result_brute_force = []\n",
    "result_brute_force_runs = []"
   ]
  },
  {
   "cell_type": "markdown",
   "metadata": {},
   "source": [
    "## Run and collect timing metrics for Apriori with increasing transactions/ items (based on configured values above) over iterations"
   ]
  },
  {
   "cell_type": "code",
   "execution_count": 30,
   "metadata": {},
   "outputs": [
    {
     "name": "stdout",
     "output_type": "stream",
     "text": [
      "Transactions: 10 Items: 4\n",
      "Run: 0\n",
      "Time to execute apriori algorithm: 0.005033016204833984\n",
      "Run: 1\n",
      "Time to execute apriori algorithm: 0.005032062530517578\n",
      "Run: 2\n",
      "Time to execute apriori algorithm: 0.003979921340942383\n",
      "Transactions: 10 Items: 5\n",
      "Run: 0\n",
      "Time to execute apriori algorithm: 0.004553794860839844\n",
      "Run: 1\n",
      "Time to execute apriori algorithm: 0.00410008430480957\n",
      "Run: 2\n",
      "Time to execute apriori algorithm: 0.0043392181396484375\n",
      "Transactions: 10 Items: 6\n",
      "Run: 0\n",
      "Time to execute apriori algorithm: 0.003973960876464844\n",
      "Run: 1\n",
      "Time to execute apriori algorithm: 0.003902912139892578\n",
      "Run: 2\n",
      "Time to execute apriori algorithm: 0.00492405891418457\n",
      "Transactions: 10 Items: 7\n",
      "Run: 0\n",
      "Time to execute apriori algorithm: 0.004191875457763672\n",
      "Run: 1\n",
      "Time to execute apriori algorithm: 0.0044248104095458984\n",
      "Run: 2\n",
      "Time to execute apriori algorithm: 0.004665851593017578\n",
      "Transactions: 10 Items: 8\n",
      "Run: 0\n",
      "Time to execute apriori algorithm: 0.004456996917724609\n",
      "Run: 1\n",
      "Time to execute apriori algorithm: 0.004328012466430664\n",
      "Run: 2\n",
      "Time to execute apriori algorithm: 0.003837108612060547\n",
      "Transactions: 10 Items: 9\n",
      "Run: 0\n",
      "Time to execute apriori algorithm: 0.0058307647705078125\n",
      "Run: 1\n",
      "Time to execute apriori algorithm: 0.004845142364501953\n",
      "Run: 2\n",
      "Time to execute apriori algorithm: 0.005642890930175781\n",
      "Transactions: 10 Items: 10\n",
      "Run: 0\n",
      "Time to execute apriori algorithm: 0.005182981491088867\n",
      "Run: 1\n",
      "Time to execute apriori algorithm: 0.004987239837646484\n",
      "Run: 2\n",
      "Time to execute apriori algorithm: 0.0046977996826171875\n",
      "Transactions: 10 Items: 11\n",
      "Run: 0\n",
      "Time to execute apriori algorithm: 0.005408048629760742\n",
      "Run: 1\n",
      "Time to execute apriori algorithm: 0.0046749114990234375\n",
      "Run: 2\n",
      "Time to execute apriori algorithm: 0.005182981491088867\n"
     ]
    }
   ],
   "source": [
    "# Iterate through each combination of transactions and items\n",
    "for i in range(n_iterations):\n",
    "    n_transactions = n_transactions_list[i]\n",
    "    n_items = n_items_list[i]\n",
    "    temp_result_apriori = []\n",
    "    print('Transactions:', n_transactions, 'Items:', n_items)\n",
    "    # Execute apriori algorithm by number of runs per iteration\n",
    "    for j in range(n_runs_per_iteration):\n",
    "        print('Run:', j)\n",
    "        frequent_itemsets, rules, time_frequent_itemsets, time_association_rules = execute_apriori(data_transactions_encoded.iloc[:n_transactions, 2:n_items+2], \n",
    "            min_support=min_support, min_confidence=min_confidence)\n",
    "        temp_result_apriori.append([time_frequent_itemsets, time_association_rules, time_frequent_itemsets + time_association_rules])\n",
    "\n",
    "    # Compute average time to execute frequent itemsets, association rules, and total time\n",
    "    result_apriori_runs.append(temp_result_apriori)\n",
    "    result_apriori.append(np.mean(temp_result_apriori, axis=0))\n"
   ]
  },
  {
   "cell_type": "markdown",
   "metadata": {},
   "source": [
    "## Run and collect timing metrics for brute-force with increasing transactions over iterations"
   ]
  },
  {
   "cell_type": "code",
   "execution_count": 31,
   "metadata": {},
   "outputs": [
    {
     "name": "stdout",
     "output_type": "stream",
     "text": [
      "Transactions: 10 Items: 4\n",
      "Run: 0\n",
      "Time to execute frequent itemsets and association rules: 0.02349400520324707\n",
      "Run: 1\n",
      "Time to execute frequent itemsets and association rules: 0.024088144302368164\n",
      "Run: 2\n",
      "Time to execute frequent itemsets and association rules: 0.02172708511352539\n",
      "Transactions: 10 Items: 5\n",
      "Run: 0\n",
      "Time to execute frequent itemsets and association rules: 0.03996109962463379\n",
      "Run: 1\n",
      "Time to execute frequent itemsets and association rules: 0.045326948165893555\n",
      "Run: 2\n",
      "Time to execute frequent itemsets and association rules: 0.059661149978637695\n",
      "Transactions: 10 Items: 6\n",
      "Run: 0\n"
     ]
    },
    {
     "name": "stdout",
     "output_type": "stream",
     "text": [
      "Time to execute frequent itemsets and association rules: 0.058856964111328125\n",
      "Run: 1\n",
      "Time to execute frequent itemsets and association rules: 0.05624699592590332\n",
      "Run: 2\n",
      "Time to execute frequent itemsets and association rules: 0.053945064544677734\n",
      "Transactions: 10 Items: 7\n",
      "Run: 0\n",
      "Time to execute frequent itemsets and association rules: 0.09233570098876953\n",
      "Run: 1\n",
      "Time to execute frequent itemsets and association rules: 0.08842802047729492\n",
      "Run: 2\n",
      "Time to execute frequent itemsets and association rules: 0.09038281440734863\n",
      "Transactions: 10 Items: 8\n",
      "Run: 0\n",
      "Time to execute frequent itemsets and association rules: 0.18584394454956055\n",
      "Run: 1\n",
      "Time to execute frequent itemsets and association rules: 0.14643001556396484\n",
      "Run: 2\n",
      "Time to execute frequent itemsets and association rules: 0.14468789100646973\n",
      "Transactions: 10 Items: 9\n",
      "Run: 0\n",
      "Time to execute frequent itemsets and association rules: 0.31934213638305664\n",
      "Run: 1\n",
      "Time to execute frequent itemsets and association rules: 0.31815123558044434\n",
      "Run: 2\n",
      "Time to execute frequent itemsets and association rules: 0.34330201148986816\n",
      "Transactions: 10 Items: 10\n",
      "Run: 0\n",
      "Time to execute frequent itemsets and association rules: 0.5900237560272217\n",
      "Run: 1\n",
      "Time to execute frequent itemsets and association rules: 0.6005361080169678\n",
      "Run: 2\n",
      "Time to execute frequent itemsets and association rules: 0.59403395652771\n",
      "Transactions: 10 Items: 11\n",
      "Run: 0\n",
      "Time to execute frequent itemsets and association rules: 1.1622540950775146\n",
      "Run: 1\n",
      "Time to execute frequent itemsets and association rules: 1.158735990524292\n",
      "Run: 2\n",
      "Time to execute frequent itemsets and association rules: 1.185220718383789\n"
     ]
    }
   ],
   "source": [
    "# Iterate through each combination of transactions and items\n",
    "for i in range(n_iterations):\n",
    "    n_transactions = n_transactions_list[i]\n",
    "    n_items = n_items_list[i]\n",
    "    temp_result_brute_force = []\n",
    "    print('Transactions:', n_transactions, 'Items:', n_items)\n",
    "    # Execute brute force algorithm\n",
    "    for j in range(n_runs_per_iteration):\n",
    "        print('Run:', j)\n",
    "        frequent_itemsets, rules, time_frequent_itemsets, time_association_rules, _ = assocation_rules_brute_force(data_transactions_encoded.iloc[:n_transactions, 2:n_items+2], \n",
    "            min_support=min_support, min_confidence=min_confidence)\n",
    "        temp_result_brute_force.append([time_frequent_itemsets, time_association_rules, time_frequent_itemsets + time_association_rules])\n",
    "\n",
    "    # Compute average time to execute frequent itemsets, association rules, and total time\n",
    "    result_brute_force_runs.append(temp_result_brute_force)\n",
    "    result_brute_force.append(np.mean(temp_result_brute_force, axis=0))"
   ]
  },
  {
   "cell_type": "markdown",
   "metadata": {},
   "source": [
    "## Compare and plot results for comparison"
   ]
  },
  {
   "cell_type": "code",
   "execution_count": 42,
   "metadata": {},
   "outputs": [],
   "source": [
    "# Convert result to dataframe\n",
    "result_apriori = pd.DataFrame(result_apriori, columns=['time_frequent_itemsets', 'time_association_rules', 'time_total'])\n",
    "result_brute_force = pd.DataFrame(result_brute_force, columns=['time_frequent_itemsets', 'time_association_rules', 'time_total'])\n"
   ]
  },
  {
   "cell_type": "code",
   "execution_count": 43,
   "metadata": {},
   "outputs": [],
   "source": [
    "# Display result for Apriori algorithm\n",
    "result_apriori\n",
    "\n",
    "# Save result for Apriori algorithm\n",
    "result_apriori.to_csv(os.path.join(G_RESULTS_DIR, 'result_apriori.csv'), index=False)"
   ]
  },
  {
   "cell_type": "code",
   "execution_count": 44,
   "metadata": {},
   "outputs": [],
   "source": [
    "# Display result for brute force algorithm\n",
    "result_brute_force\n",
    "\n",
    "# Save result for brute force algorithm\n",
    "result_brute_force.to_csv(os.path.join(G_RESULTS_DIR, 'result_brute_force.csv'), index=False)"
   ]
  },
  {
   "cell_type": "code",
   "execution_count": 45,
   "metadata": {},
   "outputs": [
    {
     "data": {
      "text/plain": [
       "<matplotlib.legend.Legend at 0x12bde4390>"
      ]
     },
     "execution_count": 45,
     "metadata": {},
     "output_type": "execute_result"
    },
    {
     "data": {
      "image/png": "[encoded data removed]",
      "text/plain": [
       "<Figure size 1000x500 with 1 Axes>"
      ]
     },
     "metadata": {},
     "output_type": "display_data"
    }
   ],
   "source": [
    "# Plot the time to execute for Apriori algorithm and brute force algorithm\n",
    "plt.figure(figsize=(10, 5))\n",
    "plt.plot(result_apriori['time_total'], label='Apriori')\n",
    "plt.plot(result_brute_force['time_total'], label='Brute Force')\n",
    "\n",
    "# Map the x-axis to round:transactions:items\n",
    "plt.xticks(range(n_iterations), [str(i+1) + \":\" + str(n_transactions_list[i]) + ':' + str(n_items_list[i]) for i in range(n_iterations)])\n",
    "plt.xlabel('Number of transactions and items (Round:Transaction:Number of Items)')\n",
    "plt.ylabel('Time to Execute both Frequent Itemsets \\nand Association Rules (s)')\n",
    "plt.title('Time to Execute for Apriori Algorithm and Brute Force Algorithm')\n",
    "plt.legend()"
   ]
  },
  {
   "cell_type": "code",
   "execution_count": 46,
   "metadata": {},
   "outputs": [
    {
     "data": {
      "image/png": "[encoded data removed]",
      "text/plain": [
       "<Figure size 1000x500 with 1 Axes>"
      ]
     },
     "metadata": {},
     "output_type": "display_data"
    }
   ],
   "source": [
    "# Plot line graph of total time for apriori and brute force algorithm with shaded area for standard deviation\n",
    "plt.figure(figsize=(10, 5))\n",
    "plt.plot(range(n_iterations), np.array(result_apriori_runs)[:, :, 2].mean(axis=1), label='Apriori')\n",
    "plt.fill_between(range(n_iterations), np.array(result_apriori_runs)[:, :, 2].mean(axis=1) - np.array(result_apriori_runs)[:, :, 2].std(axis=1), \n",
    "    np.array(result_apriori_runs)[:, :, 2].mean(axis=1) + np.array(result_apriori_runs)[:, :, 2].std(axis=1), alpha=0.2, color='red')\n",
    "plt.plot(range(n_iterations), np.array(result_brute_force_runs)[:, :, 2].mean(axis=1), label='Brute Force')\n",
    "plt.fill_between(range(n_iterations), np.array(result_brute_force_runs)[:, :, 2].mean(axis=1) - np.array(result_brute_force_runs)[:, :, 2].std(axis=1), \n",
    "    np.array(result_brute_force_runs)[:, :, 2].mean(axis=1) + np.array(result_brute_force_runs)[:, :, 2].std(axis=1), alpha=0.2, color='green')\n",
    "plt.xticks(range(n_iterations), [str(i+1) + \":\" + str(n_transactions_list[i]) + ':' + str(n_items_list[i]) for i in range(n_iterations)])\n",
    "plt.xlabel('Number of transactions and items (Round:Transaction:Number of Items)')\n",
    "plt.ylabel('Time to Execute both Frequent Itemsets \\nand Association Rules (s)')\n",
    "plt.title('Total Time to Execute Apriori and Brute Force Algorithm')\n",
    "plt.legend(['Apriori', 'Apriori Standard Deviation', 'Brute Force', 'Brute Force Standard Deviation'])\n",
    "plt.show()"
   ]
  },
  {
   "cell_type": "code",
   "execution_count": 47,
   "metadata": {},
   "outputs": [
    {
     "name": "stdout",
     "output_type": "stream",
     "text": [
      "r:  1  n:  4  result:  4.0\n",
      "r:  2  n:  4  result:  6.0\n",
      "r:  3  n:  4  result:  4.0\n",
      "r:  4  n:  4  result:  1.0\n",
      "r:  1  n:  5  result:  5.0\n",
      "r:  2  n:  5  result:  10.0\n",
      "r:  3  n:  5  result:  10.0\n",
      "r:  4  n:  5  result:  5.0\n",
      "r:  5  n:  5  result:  1.0\n",
      "r:  1  n:  6  result:  6.0\n",
      "r:  2  n:  6  result:  15.0\n",
      "r:  3  n:  6  result:  20.0\n",
      "r:  4  n:  6  result:  15.0\n",
      "r:  5  n:  6  result:  6.0\n",
      "r:  6  n:  6  result:  1.0\n",
      "r:  1  n:  7  result:  7.0\n",
      "r:  2  n:  7  result:  21.0\n",
      "r:  3  n:  7  result:  35.0\n",
      "r:  4  n:  7  result:  35.0\n",
      "r:  5  n:  7  result:  21.0\n",
      "r:  6  n:  7  result:  7.0\n",
      "r:  7  n:  7  result:  1.0\n",
      "r:  1  n:  8  result:  8.0\n",
      "r:  2  n:  8  result:  28.0\n",
      "r:  3  n:  8  result:  56.0\n",
      "r:  4  n:  8  result:  70.0\n",
      "r:  5  n:  8  result:  56.0\n",
      "r:  6  n:  8  result:  28.0\n",
      "r:  7  n:  8  result:  8.0\n",
      "r:  8  n:  8  result:  1.0\n",
      "r:  1  n:  9  result:  9.0\n",
      "r:  2  n:  9  result:  36.0\n",
      "r:  3  n:  9  result:  84.0\n",
      "r:  4  n:  9  result:  126.0\n",
      "r:  5  n:  9  result:  126.0\n",
      "r:  6  n:  9  result:  84.0\n",
      "r:  7  n:  9  result:  36.0\n",
      "r:  8  n:  9  result:  9.0\n",
      "r:  9  n:  9  result:  1.0\n",
      "r:  1  n:  10  result:  10.0\n",
      "r:  2  n:  10  result:  45.0\n",
      "r:  3  n:  10  result:  120.0\n",
      "r:  4  n:  10  result:  210.0\n",
      "r:  5  n:  10  result:  252.0\n",
      "r:  6  n:  10  result:  210.0\n",
      "r:  7  n:  10  result:  120.0\n",
      "r:  8  n:  10  result:  45.0\n",
      "r:  9  n:  10  result:  10.0\n",
      "r:  10  n:  10  result:  1.0\n",
      "r:  1  n:  11  result:  11.0\n",
      "r:  2  n:  11  result:  55.0\n",
      "r:  3  n:  11  result:  165.0\n",
      "r:  4  n:  11  result:  330.0\n",
      "r:  5  n:  11  result:  462.0\n",
      "r:  6  n:  11  result:  462.0\n",
      "r:  7  n:  11  result:  330.0\n",
      "r:  8  n:  11  result:  165.0\n",
      "r:  9  n:  11  result:  55.0\n",
      "r:  10  n:  11  result:  11.0\n",
      "r:  11  n:  11  result:  1.0\n"
     ]
    }
   ],
   "source": [
    "# Generate table for comparing the time to execute for Apriori algorithm and brute force algorithm\n",
    "results_table_column = [('Round ' + str(i+1)) for i in range(n_iterations)]\n",
    "results_table = pd.DataFrame(columns=results_table_column)\n",
    "results_table.loc['Transactions'] = n_transactions_list[:n_iterations]\n",
    "results_table.loc['Items'] = n_items_list[:n_iterations]\n",
    "results_table.loc['Itemset Combinations'] = [nCr_all(n_items_list[i]) for i in range(n_iterations)]\n",
    "results_table.loc['Apriori'] = result_apriori['time_total'].values\n",
    "results_table.loc['Brute Force'] = result_brute_force['time_total'].values\n",
    "\n",
    "# Save results table as csv\n",
    "results_table.to_csv(os.path.join(G_RESULTS_DIR, 'results_table.csv'))"
   ]
  },
  {
   "cell_type": "code",
   "execution_count": 48,
   "metadata": {},
   "outputs": [
    {
     "data": {
      "text/html": [
       "<div>\n",
       "<style scoped>\n",
       "    .dataframe tbody tr th:only-of-type {\n",
       "        vertical-align: middle;\n",
       "    }\n",
       "\n",
       "    .dataframe tbody tr th {\n",
       "        vertical-align: top;\n",
       "    }\n",
       "\n",
       "    .dataframe thead th {\n",
       "        text-align: right;\n",
       "    }\n",
       "</style>\n",
       "<table border=\"1\" class=\"dataframe\">\n",
       "  <thead>\n",
       "    <tr style=\"text-align: right;\">\n",
       "      <th></th>\n",
       "      <th>Round 1</th>\n",
       "      <th>Round 2</th>\n",
       "      <th>Round 3</th>\n",
       "      <th>Round 4</th>\n",
       "      <th>Round 5</th>\n",
       "      <th>Round 6</th>\n",
       "      <th>Round 7</th>\n",
       "      <th>Round 8</th>\n",
       "    </tr>\n",
       "  </thead>\n",
       "  <tbody>\n",
       "    <tr>\n",
       "      <th>Transactions</th>\n",
       "      <td>10.000000</td>\n",
       "      <td>10.000000</td>\n",
       "      <td>10.000000</td>\n",
       "      <td>10.000000</td>\n",
       "      <td>10.000000</td>\n",
       "      <td>10.000000</td>\n",
       "      <td>10.000000</td>\n",
       "      <td>10.000000</td>\n",
       "    </tr>\n",
       "    <tr>\n",
       "      <th>Items</th>\n",
       "      <td>4.000000</td>\n",
       "      <td>5.000000</td>\n",
       "      <td>6.000000</td>\n",
       "      <td>7.000000</td>\n",
       "      <td>8.000000</td>\n",
       "      <td>9.000000</td>\n",
       "      <td>10.000000</td>\n",
       "      <td>11.000000</td>\n",
       "    </tr>\n",
       "    <tr>\n",
       "      <th>Itemset Combinations</th>\n",
       "      <td>15.000000</td>\n",
       "      <td>31.000000</td>\n",
       "      <td>63.000000</td>\n",
       "      <td>127.000000</td>\n",
       "      <td>255.000000</td>\n",
       "      <td>511.000000</td>\n",
       "      <td>1023.000000</td>\n",
       "      <td>2047.000000</td>\n",
       "    </tr>\n",
       "    <tr>\n",
       "      <th>Apriori</th>\n",
       "      <td>0.004682</td>\n",
       "      <td>0.004331</td>\n",
       "      <td>0.004267</td>\n",
       "      <td>0.004428</td>\n",
       "      <td>0.004207</td>\n",
       "      <td>0.005440</td>\n",
       "      <td>0.004956</td>\n",
       "      <td>0.005089</td>\n",
       "    </tr>\n",
       "    <tr>\n",
       "      <th>Brute Force</th>\n",
       "      <td>0.023103</td>\n",
       "      <td>0.048316</td>\n",
       "      <td>0.056350</td>\n",
       "      <td>0.090382</td>\n",
       "      <td>0.158987</td>\n",
       "      <td>0.326932</td>\n",
       "      <td>0.594865</td>\n",
       "      <td>1.168737</td>\n",
       "    </tr>\n",
       "  </tbody>\n",
       "</table>\n",
       "</div>"
      ],
      "text/plain": [
       "                        Round 1    Round 2    Round 3     Round 4     Round 5  \\\n",
       "Transactions          10.000000  10.000000  10.000000   10.000000   10.000000   \n",
       "Items                  4.000000   5.000000   6.000000    7.000000    8.000000   \n",
       "Itemset Combinations  15.000000  31.000000  63.000000  127.000000  255.000000   \n",
       "Apriori                0.004682   0.004331   0.004267    0.004428    0.004207   \n",
       "Brute Force            0.023103   0.048316   0.056350    0.090382    0.158987   \n",
       "\n",
       "                         Round 6      Round 7      Round 8  \n",
       "Transactions           10.000000    10.000000    10.000000  \n",
       "Items                   9.000000    10.000000    11.000000  \n",
       "Itemset Combinations  511.000000  1023.000000  2047.000000  \n",
       "Apriori                 0.005440     0.004956     0.005089  \n",
       "Brute Force             0.326932     0.594865     1.168737  "
      ]
     },
     "execution_count": 48,
     "metadata": {},
     "output_type": "execute_result"
    }
   ],
   "source": [
    "results_table"
   ]
  },
  {
   "cell_type": "markdown",
   "metadata": {},
   "source": [
    "# Compute time constant for brute force algorithm"
   ]
  },
  {
   "cell_type": "code",
   "execution_count": 49,
   "metadata": {},
   "outputs": [
    {
     "name": "stdout",
     "output_type": "stream",
     "text": [
      "Iteration:  0\n",
      "Run: 0\n",
      "Time to execute frequent itemsets and association rules: 0.0020949840545654297\n",
      "Run: 1\n",
      "Time to execute frequent itemsets and association rules: 0.005337953567504883\n",
      "Run: 2\n",
      "Time to execute frequent itemsets and association rules: 0.0035080909729003906\n",
      "Iteration:  1\n",
      "Run: 0\n",
      "Time to execute frequent itemsets and association rules: 0.004419803619384766\n",
      "Run: 1\n",
      "Time to execute frequent itemsets and association rules: 0.004282951354980469\n",
      "Run: 2\n",
      "Time to execute frequent itemsets and association rules: 0.006253719329833984\n",
      "Iteration:  2\n",
      "Run: 0\n",
      "Time to execute frequent itemsets and association rules: 0.014468908309936523\n",
      "Run: 1\n",
      "Time to execute frequent itemsets and association rules: 0.012555360794067383\n",
      "Run: 2\n",
      "Time to execute frequent itemsets and association rules: 0.01291799545288086\n",
      "Iteration:  3\n",
      "Run: 0\n",
      "Time to execute frequent itemsets and association rules: 0.022683143615722656\n",
      "Run: 1\n",
      "Time to execute frequent itemsets and association rules: 0.027333736419677734\n",
      "Run: 2\n",
      "Time to execute frequent itemsets and association rules: 0.039251089096069336\n",
      "Iteration:  4\n",
      "Run: 0\n",
      "Time to execute frequent itemsets and association rules: 0.044396162033081055\n",
      "Run: 1\n",
      "Time to execute frequent itemsets and association rules: 0.03485393524169922\n",
      "Run: 2\n",
      "Time to execute frequent itemsets and association rules: 0.04177403450012207\n",
      "Iteration:  5\n",
      "Run: 0\n",
      "Time to execute frequent itemsets and association rules: 0.05533289909362793\n",
      "Run: 1\n",
      "Time to execute frequent itemsets and association rules: 0.0458989143371582\n",
      "Run: 2\n",
      "Time to execute frequent itemsets and association rules: 0.04462075233459473\n",
      "Iteration:  6\n",
      "Run: 0\n",
      "Time to execute frequent itemsets and association rules: 0.07696413993835449\n",
      "Run: 1\n",
      "Time to execute frequent itemsets and association rules: 0.08020210266113281\n",
      "Run: 2\n",
      "Time to execute frequent itemsets and association rules: 0.07575201988220215\n",
      "Iteration:  7\n",
      "Run: 0\n",
      "Time to execute frequent itemsets and association rules: 0.13938593864440918\n",
      "Run: 1\n",
      "Time to execute frequent itemsets and association rules: 0.13794875144958496\n",
      "Run: 2\n",
      "Time to execute frequent itemsets and association rules: 0.13797712326049805\n",
      "Iteration:  8\n",
      "Run: 0\n",
      "Time to execute frequent itemsets and association rules: 0.3155832290649414\n",
      "Run: 1\n",
      "Time to execute frequent itemsets and association rules: 0.30593419075012207\n",
      "Run: 2\n",
      "Time to execute frequent itemsets and association rules: 0.3061192035675049\n",
      "Iteration:  9\n",
      "Run: 0\n",
      "Time to execute frequent itemsets and association rules: 0.5668752193450928\n",
      "Run: 1\n",
      "Time to execute frequent itemsets and association rules: 0.567957878112793\n",
      "Run: 2\n",
      "Time to execute frequent itemsets and association rules: 0.5582902431488037\n",
      "Iteration:  10\n",
      "Run: 0\n",
      "Time to execute frequent itemsets and association rules: 1.084043025970459\n",
      "Run: 1\n",
      "Time to execute frequent itemsets and association rules: 1.0872232913970947\n",
      "Run: 2\n",
      "Time to execute frequent itemsets and association rules: 1.0836102962493896\n",
      "Iteration:  11\n",
      "Run: 0\n",
      "Time to execute frequent itemsets and association rules: 2.187579870223999\n",
      "Run: 1\n",
      "Time to execute frequent itemsets and association rules: 2.203962802886963\n",
      "Run: 2\n",
      "Time to execute frequent itemsets and association rules: 2.1985740661621094\n",
      "Iteration:  12\n",
      "Run: 0\n",
      "Time to execute frequent itemsets and association rules: 4.416585922241211\n",
      "Run: 1\n",
      "Time to execute frequent itemsets and association rules: 4.413910150527954\n",
      "Run: 2\n",
      "Time to execute frequent itemsets and association rules: 4.460946798324585\n",
      "Iteration:  13\n",
      "Run: 0\n",
      "Time to execute frequent itemsets and association rules: 9.037941932678223\n",
      "Run: 1\n",
      "Time to execute frequent itemsets and association rules: 9.297101020812988\n",
      "Run: 2\n",
      "Time to execute frequent itemsets and association rules: 11.583791732788086\n",
      "Iteration:  14\n",
      "Run: 0\n",
      "Time to execute frequent itemsets and association rules: 19.797718048095703\n",
      "Run: 1\n",
      "Time to execute frequent itemsets and association rules: 19.535923957824707\n",
      "Run: 2\n",
      "Time to execute frequent itemsets and association rules: 19.917165756225586\n",
      "Iteration:  15\n",
      "Run: 0\n",
      "Time to execute frequent itemsets and association rules: 39.47229790687561\n",
      "Run: 1\n",
      "Time to execute frequent itemsets and association rules: 39.56397581100464\n",
      "Run: 2\n",
      "Time to execute frequent itemsets and association rules: 39.245535373687744\n",
      "Iteration:  16\n",
      "Run: 0\n",
      "Time to execute frequent itemsets and association rules: 77.74147605895996\n",
      "Run: 1\n",
      "Time to execute frequent itemsets and association rules: 76.763592004776\n",
      "Run: 2\n",
      "Time to execute frequent itemsets and association rules: 75.88840985298157\n",
      "Iteration:  17\n",
      "Run: 0\n",
      "Time to execute frequent itemsets and association rules: 155.22459197044373\n",
      "Run: 1\n",
      "Time to execute frequent itemsets and association rules: 147.32841205596924\n",
      "Run: 2\n",
      "Time to execute frequent itemsets and association rules: 143.81427884101868\n",
      "Iteration:  18\n",
      "Run: 0\n",
      "Time to execute frequent itemsets and association rules: 303.5126168727875\n",
      "Run: 1\n",
      "Time to execute frequent itemsets and association rules: 318.5879936218262\n",
      "Run: 2\n",
      "Time to execute frequent itemsets and association rules: 308.05606484413147\n",
      "Iteration:  19\n",
      "Run: 0\n",
      "Time to execute frequent itemsets and association rules: 621.665764093399\n",
      "Run: 1\n",
      "Time to execute frequent itemsets and association rules: 626.6606440544128\n",
      "Run: 2\n",
      "Time to execute frequent itemsets and association rules: 614.3786177635193\n"
     ]
    }
   ],
   "source": [
    "# Compute and record the possible combinations and execution time, to derive the relationship between the number of possible combinations and execution time\n",
    "result_brute_force_all = []\n",
    "result_brute_force_all_runs = []\n",
    "n_iterations_all = 20\n",
    "n_runs_per_iteration = 3\n",
    "\n",
    "# Iterate through each combination of transactions and items\n",
    "for i in range(n_iterations_all):\n",
    "    print(\"Iteration: \", i)\n",
    "    temp_result_brute_force_all = []\n",
    "    # Execute brute force algorithm\n",
    "    for j in range(n_runs_per_iteration):\n",
    "        print('Run:', j)\n",
    "        frequent_itemsets, rules, time_frequent_itemsets, time_association_rules, all_itemsets = assocation_rules_brute_force(data_transactions_encoded.iloc[:10, 2:(i+1)+2])\n",
    "        temp_result_brute_force_all.append([len(all_itemsets), time_frequent_itemsets, time_association_rules, time_frequent_itemsets + time_association_rules])\n",
    "\n",
    "    # Compute average time to execute frequent itemsets, association rules, and total time\n",
    "    result_brute_force_all_runs.append(temp_result_brute_force_all)\n",
    "    result_brute_force_all.append(np.mean(temp_result_brute_force_all, axis=0))\n",
    "\n"
   ]
  },
  {
   "cell_type": "code",
   "execution_count": 50,
   "metadata": {},
   "outputs": [
    {
     "data": {
      "text/html": [
       "<div>\n",
       "<style scoped>\n",
       "    .dataframe tbody tr th:only-of-type {\n",
       "        vertical-align: middle;\n",
       "    }\n",
       "\n",
       "    .dataframe tbody tr th {\n",
       "        vertical-align: top;\n",
       "    }\n",
       "\n",
       "    .dataframe thead th {\n",
       "        text-align: right;\n",
       "    }\n",
       "</style>\n",
       "<table border=\"1\" class=\"dataframe\">\n",
       "  <thead>\n",
       "    <tr style=\"text-align: right;\">\n",
       "      <th></th>\n",
       "      <th>itemset_combinations</th>\n",
       "      <th>time_frequent_itemsets</th>\n",
       "      <th>time_association_rules</th>\n",
       "      <th>time_total</th>\n",
       "      <th>time_per_itemset_combination</th>\n",
       "    </tr>\n",
       "  </thead>\n",
       "  <tbody>\n",
       "    <tr>\n",
       "      <th>0</th>\n",
       "      <td>1.0</td>\n",
       "      <td>0.003420</td>\n",
       "      <td>0.000227</td>\n",
       "      <td>0.003647</td>\n",
       "      <td>0.003647</td>\n",
       "    </tr>\n",
       "    <tr>\n",
       "      <th>1</th>\n",
       "      <td>3.0</td>\n",
       "      <td>0.004802</td>\n",
       "      <td>0.000183</td>\n",
       "      <td>0.004985</td>\n",
       "      <td>0.001662</td>\n",
       "    </tr>\n",
       "    <tr>\n",
       "      <th>2</th>\n",
       "      <td>7.0</td>\n",
       "      <td>0.007328</td>\n",
       "      <td>0.005986</td>\n",
       "      <td>0.013314</td>\n",
       "      <td>0.001902</td>\n",
       "    </tr>\n",
       "    <tr>\n",
       "      <th>3</th>\n",
       "      <td>15.0</td>\n",
       "      <td>0.016337</td>\n",
       "      <td>0.013419</td>\n",
       "      <td>0.029756</td>\n",
       "      <td>0.001984</td>\n",
       "    </tr>\n",
       "    <tr>\n",
       "      <th>4</th>\n",
       "      <td>31.0</td>\n",
       "      <td>0.023929</td>\n",
       "      <td>0.016413</td>\n",
       "      <td>0.040341</td>\n",
       "      <td>0.001301</td>\n",
       "    </tr>\n",
       "    <tr>\n",
       "      <th>5</th>\n",
       "      <td>63.0</td>\n",
       "      <td>0.035272</td>\n",
       "      <td>0.013345</td>\n",
       "      <td>0.048618</td>\n",
       "      <td>0.000772</td>\n",
       "    </tr>\n",
       "    <tr>\n",
       "      <th>6</th>\n",
       "      <td>127.0</td>\n",
       "      <td>0.064616</td>\n",
       "      <td>0.013023</td>\n",
       "      <td>0.077639</td>\n",
       "      <td>0.000611</td>\n",
       "    </tr>\n",
       "    <tr>\n",
       "      <th>7</th>\n",
       "      <td>255.0</td>\n",
       "      <td>0.125234</td>\n",
       "      <td>0.013203</td>\n",
       "      <td>0.138437</td>\n",
       "      <td>0.000543</td>\n",
       "    </tr>\n",
       "    <tr>\n",
       "      <th>8</th>\n",
       "      <td>511.0</td>\n",
       "      <td>0.256583</td>\n",
       "      <td>0.052629</td>\n",
       "      <td>0.309212</td>\n",
       "      <td>0.000605</td>\n",
       "    </tr>\n",
       "    <tr>\n",
       "      <th>9</th>\n",
       "      <td>1023.0</td>\n",
       "      <td>0.511832</td>\n",
       "      <td>0.052542</td>\n",
       "      <td>0.564374</td>\n",
       "      <td>0.000552</td>\n",
       "    </tr>\n",
       "    <tr>\n",
       "      <th>10</th>\n",
       "      <td>2047.0</td>\n",
       "      <td>1.029441</td>\n",
       "      <td>0.055518</td>\n",
       "      <td>1.084959</td>\n",
       "      <td>0.000530</td>\n",
       "    </tr>\n",
       "    <tr>\n",
       "      <th>11</th>\n",
       "      <td>4095.0</td>\n",
       "      <td>2.141133</td>\n",
       "      <td>0.055572</td>\n",
       "      <td>2.196706</td>\n",
       "      <td>0.000536</td>\n",
       "    </tr>\n",
       "    <tr>\n",
       "      <th>12</th>\n",
       "      <td>8191.0</td>\n",
       "      <td>4.374066</td>\n",
       "      <td>0.056415</td>\n",
       "      <td>4.430481</td>\n",
       "      <td>0.000541</td>\n",
       "    </tr>\n",
       "    <tr>\n",
       "      <th>13</th>\n",
       "      <td>16383.0</td>\n",
       "      <td>9.909741</td>\n",
       "      <td>0.063204</td>\n",
       "      <td>9.972945</td>\n",
       "      <td>0.000609</td>\n",
       "    </tr>\n",
       "    <tr>\n",
       "      <th>14</th>\n",
       "      <td>32767.0</td>\n",
       "      <td>19.690742</td>\n",
       "      <td>0.059527</td>\n",
       "      <td>19.750269</td>\n",
       "      <td>0.000603</td>\n",
       "    </tr>\n",
       "    <tr>\n",
       "      <th>15</th>\n",
       "      <td>65535.0</td>\n",
       "      <td>39.363769</td>\n",
       "      <td>0.063501</td>\n",
       "      <td>39.427270</td>\n",
       "      <td>0.000602</td>\n",
       "    </tr>\n",
       "    <tr>\n",
       "      <th>16</th>\n",
       "      <td>131071.0</td>\n",
       "      <td>76.738013</td>\n",
       "      <td>0.059813</td>\n",
       "      <td>76.797826</td>\n",
       "      <td>0.000586</td>\n",
       "    </tr>\n",
       "    <tr>\n",
       "      <th>17</th>\n",
       "      <td>262143.0</td>\n",
       "      <td>148.713342</td>\n",
       "      <td>0.075752</td>\n",
       "      <td>148.789094</td>\n",
       "      <td>0.000568</td>\n",
       "    </tr>\n",
       "    <tr>\n",
       "      <th>18</th>\n",
       "      <td>524287.0</td>\n",
       "      <td>309.972605</td>\n",
       "      <td>0.079621</td>\n",
       "      <td>310.052225</td>\n",
       "      <td>0.000591</td>\n",
       "    </tr>\n",
       "    <tr>\n",
       "      <th>19</th>\n",
       "      <td>1048575.0</td>\n",
       "      <td>620.817150</td>\n",
       "      <td>0.084525</td>\n",
       "      <td>620.901675</td>\n",
       "      <td>0.000592</td>\n",
       "    </tr>\n",
       "  </tbody>\n",
       "</table>\n",
       "</div>"
      ],
      "text/plain": [
       "    itemset_combinations  time_frequent_itemsets  time_association_rules  \\\n",
       "0                    1.0                0.003420                0.000227   \n",
       "1                    3.0                0.004802                0.000183   \n",
       "2                    7.0                0.007328                0.005986   \n",
       "3                   15.0                0.016337                0.013419   \n",
       "4                   31.0                0.023929                0.016413   \n",
       "5                   63.0                0.035272                0.013345   \n",
       "6                  127.0                0.064616                0.013023   \n",
       "7                  255.0                0.125234                0.013203   \n",
       "8                  511.0                0.256583                0.052629   \n",
       "9                 1023.0                0.511832                0.052542   \n",
       "10                2047.0                1.029441                0.055518   \n",
       "11                4095.0                2.141133                0.055572   \n",
       "12                8191.0                4.374066                0.056415   \n",
       "13               16383.0                9.909741                0.063204   \n",
       "14               32767.0               19.690742                0.059527   \n",
       "15               65535.0               39.363769                0.063501   \n",
       "16              131071.0               76.738013                0.059813   \n",
       "17              262143.0              148.713342                0.075752   \n",
       "18              524287.0              309.972605                0.079621   \n",
       "19             1048575.0              620.817150                0.084525   \n",
       "\n",
       "    time_total  time_per_itemset_combination  \n",
       "0     0.003647                      0.003647  \n",
       "1     0.004985                      0.001662  \n",
       "2     0.013314                      0.001902  \n",
       "3     0.029756                      0.001984  \n",
       "4     0.040341                      0.001301  \n",
       "5     0.048618                      0.000772  \n",
       "6     0.077639                      0.000611  \n",
       "7     0.138437                      0.000543  \n",
       "8     0.309212                      0.000605  \n",
       "9     0.564374                      0.000552  \n",
       "10    1.084959                      0.000530  \n",
       "11    2.196706                      0.000536  \n",
       "12    4.430481                      0.000541  \n",
       "13    9.972945                      0.000609  \n",
       "14   19.750269                      0.000603  \n",
       "15   39.427270                      0.000602  \n",
       "16   76.797826                      0.000586  \n",
       "17  148.789094                      0.000568  \n",
       "18  310.052225                      0.000591  \n",
       "19  620.901675                      0.000592  "
      ]
     },
     "execution_count": 50,
     "metadata": {},
     "output_type": "execute_result"
    }
   ],
   "source": [
    "# Convert result to dataframe\n",
    "result_brute_force_all = pd.DataFrame(result_brute_force_all, columns=['itemset_combinations', 'time_frequent_itemsets', 'time_association_rules', 'time_total'])\n",
    "# Compute the execution time per itemset combination\n",
    "result_brute_force_all['time_per_itemset_combination'] = result_brute_force_all['time_total'] / result_brute_force_all['itemset_combinations']\n",
    "\n",
    "# Save result\n",
    "result_brute_force_all.to_csv(os.path.join(G_RESULTS_DIR, 'result_brute_force_all.csv'), index=False)\n",
    "# Display result\n",
    "result_brute_force_all"
   ]
  },
  {
   "cell_type": "code",
   "execution_count": 51,
   "metadata": {},
   "outputs": [
    {
     "name": "stdout",
     "output_type": "stream",
     "text": [
      "Time per itemset combination: 0.0009668071882772876\n"
     ]
    },
    {
     "data": {
      "text/plain": [
       "count    20.000000\n",
       "mean      0.000967\n",
       "std       0.000790\n",
       "min       0.000530\n",
       "25%       0.000564\n",
       "50%       0.000602\n",
       "75%       0.000904\n",
       "max       0.003647\n",
       "Name: time_per_itemset_combination, dtype: float64"
      ]
     },
     "execution_count": 51,
     "metadata": {},
     "output_type": "execute_result"
    }
   ],
   "source": [
    "# Statistics of the time per combination\n",
    "time_constant_per_combination = result_brute_force_all['time_per_itemset_combination'].mean()\n",
    "print('Time per itemset combination:', time_constant_per_combination)\n",
    "result_brute_force_all['time_per_itemset_combination'].describe()\n"
   ]
  },
  {
   "cell_type": "code",
   "execution_count": 71,
   "metadata": {},
   "outputs": [
    {
     "data": {
      "text/plain": [
       "<matplotlib.legend.Legend at 0x12ed7a290>"
      ]
     },
     "execution_count": 71,
     "metadata": {},
     "output_type": "execute_result"
    },
    {
     "data": {
      "image/png": "[encoded data removed]",
      "text/plain": [
       "<Figure size 1000x500 with 2 Axes>"
      ]
     },
     "metadata": {},
     "output_type": "display_data"
    },
    {
     "data": {
      "image/png": "[encoded data removed]",
      "text/plain": [
       "<Figure size 1000x500 with 1 Axes>"
      ]
     },
     "metadata": {},
     "output_type": "display_data"
    }
   ],
   "source": [
    "# Generate graphs to show the relationship between iterations and number of items, itemset combinations, total time and the time per combination\n",
    "# plt.figure(figsize=(10, 5))\n",
    "# plt.plot(result_brute_force_all['itemset_combinations'], label='Brute Force')\n",
    "# plt.xlabel('Number of Items')\n",
    "# plt.ylabel('Number of Itemset Combinations')\n",
    "# plt.xticks(range(n_iterations_all), [str(i+1) for i in range(n_iterations_all)])\n",
    "# plt.title('Time to Execute for Brute Force Algorithm')\n",
    "# plt.legend()\n",
    "\n",
    "# plt.figure(figsize=(10, 5))\n",
    "# plt.plot(result_brute_force_all['time_total'], label='Brute Force')\n",
    "# plt.xlabel('Number of Itemset Combinations')\n",
    "# plt.ylabel('Time to Execute (s)')\n",
    "# plt.xticks(range(n_iterations_all), [str(i+1) for i in range(n_iterations_all)])\n",
    "# plt.title('Time to Execute for Brute Force Algorithm')\n",
    "# plt.legend()\n",
    "\n",
    "fig, ax1 = plt.subplots(figsize=(10, 5))\n",
    "ax1.scatter(range(n_iterations_all), result_brute_force_all['itemset_combinations'], color='blue', label='Number of Itemset Combinations')\n",
    "ax1.set_xlabel('Number of Items')\n",
    "ax1.set_ylabel('Number of Itemset Combinations')\n",
    "ax1.tick_params(axis='y')\n",
    "ax2 = ax1.twinx()\n",
    "ax2.plot(result_brute_force_all['time_total'], color='orange', label='Time to Execute')\n",
    "ax2.set_ylabel('Time to Execute (s)')\n",
    "ax2.tick_params(axis='y')\n",
    "fig.legend()\n",
    "fig.tight_layout()\n",
    "plt.title('Time to Execute for Brute Force Algorithm')\n",
    "\n",
    "# Plot the time per itemset combination with shaded area for standard deviation\n",
    "temp_std_dev = np.array(result_brute_force_all_runs)[:,:,3].std(axis=1)/ np.array(result_brute_force_all_runs)[:,:,0].mean(axis=1)\n",
    "plt.figure(figsize=(10, 5))\n",
    "plt.plot(result_brute_force_all['time_per_itemset_combination'], label='Brute Force')\n",
    "plt.fill_between(range(n_iterations_all), result_brute_force_all['time_per_itemset_combination'] - temp_std_dev, \n",
    "    result_brute_force_all['time_per_itemset_combination'] + temp_std_dev, alpha=0.2, color='green')\n",
    "plt.xticks(range(n_iterations_all), [str(i+1) for i in range(n_iterations_all)])\n",
    "plt.xlabel('Number of Items')\n",
    "plt.ylabel('Time to Execute per itemset combination (s)')\n",
    "plt.title('Time to Execute for Brute Force Algorithm')\n",
    "plt.legend(['Brute Force', 'Brute Force Standard Deviation'])\n",
    "\n",
    "# plt.figure(figsize=(10, 5))\n",
    "# plt.plot(result_brute_force_all['time_per_itemset_combination'], label='Brute Force')\n",
    "# plt.xlabel('Number of Itemset Combinations')\n",
    "# plt.ylabel('Time to Execute per itemset combination (s)')\n",
    "# plt.xticks(range(n_iterations_all), [str(i+1) for i in range(n_iterations_all)])\n",
    "# plt.title('Time to Execute for Brute Force Algorithm')\n",
    "# plt.legend()\n"
   ]
  },
  {
   "cell_type": "code",
   "execution_count": 53,
   "metadata": {},
   "outputs": [
    {
     "name": "stdout",
     "output_type": "stream",
     "text": [
      "Correlation between the number of itemset combinations and the time per itemset combination:  0.9999548217107482\n",
      "Correlation between the number of itemset combinations and the time per itemset combination:  -0.2061459056894039\n"
     ]
    }
   ],
   "source": [
    "# Calcuate the corelation between the number of itemset combinations and the total time\n",
    "print(\"Correlation between the number of itemset combinations and the time per itemset combination: \", result_brute_force_all['itemset_combinations'].corr(result_brute_force_all['time_total']))\n",
    "\n",
    "# Calcuate the corelation between the number of itemset combinations and the time per itemset combination\n",
    "print(\"Correlation between the number of itemset combinations and the time per itemset combination: \", result_brute_force_all['itemset_combinations'].corr(result_brute_force_all['time_per_itemset_combination']))"
   ]
  },
  {
   "cell_type": "code",
   "execution_count": 54,
   "metadata": {},
   "outputs": [
    {
     "name": "stdout",
     "output_type": "stream",
     "text": [
      "Time per itemset combination updated: 0.0005736294646639125\n"
     ]
    },
    {
     "data": {
      "text/plain": [
       "count    13.000000\n",
       "mean      0.000574\n",
       "std       0.000030\n",
       "min       0.000530\n",
       "25%       0.000543\n",
       "50%       0.000586\n",
       "75%       0.000602\n",
       "max       0.000609\n",
       "Name: time_per_itemset_combination, dtype: float64"
      ]
     },
     "execution_count": 54,
     "metadata": {},
     "output_type": "execute_result"
    }
   ],
   "source": [
    "time_constant_per_combination = result_brute_force_all.iloc[7:]['time_per_itemset_combination'].mean()\n",
    "print('Time per itemset combination updated:', time_constant_per_combination)\n",
    "# Describe statistics for time per combination only for range beyond 7 items\n",
    "result_brute_force_all.iloc[7:]['time_per_itemset_combination'].describe()"
   ]
  },
  {
   "cell_type": "markdown",
   "metadata": {},
   "source": [
    "# Derive formula for estimate brute force execution time"
   ]
  },
  {
   "cell_type": "code",
   "execution_count": 55,
   "metadata": {},
   "outputs": [
    {
     "name": "stdout",
     "output_type": "stream",
     "text": [
      "Time constant per combination:  0.0005736294646639125\n",
      "r:  1  n:  50  result:  50.0\n",
      "r:  2  n:  50  result:  1225.0\n",
      "r:  3  n:  50  result:  19600.0\n",
      "r:  4  n:  50  result:  230300.0\n",
      "r:  5  n:  50  result:  2118760.0\n",
      "r:  6  n:  50  result:  15890700.0\n",
      "r:  7  n:  50  result:  99884400.0\n",
      "r:  8  n:  50  result:  536878650.0\n",
      "r:  9  n:  50  result:  2505433700.0\n",
      "r:  10  n:  50  result:  10272278170.0\n",
      "r:  11  n:  50  result:  37353738800.0\n",
      "r:  12  n:  50  result:  121399651100.0\n",
      "r:  13  n:  50  result:  354860518600.0\n",
      "r:  14  n:  50  result:  937845656300.0\n",
      "r:  15  n:  50  result:  2250829575120.0\n",
      "r:  16  n:  50  result:  4923689695575.0\n",
      "r:  17  n:  50  result:  9847379391150.0\n",
      "r:  18  n:  50  result:  18053528883775.0\n",
      "r:  19  n:  50  result:  30405943383200.0\n",
      "r:  20  n:  50  result:  47129212243960.0\n",
      "r:  21  n:  50  result:  67327446062800.0\n",
      "r:  22  n:  50  result:  88749815264600.0\n",
      "r:  23  n:  50  result:  108043253365600.0\n",
      "r:  24  n:  50  result:  121548660036300.0\n",
      "r:  25  n:  50  result:  126410606437752.0\n",
      "r:  26  n:  50  result:  121548660036300.0\n",
      "r:  27  n:  50  result:  108043253365600.0\n",
      "r:  28  n:  50  result:  88749815264600.0\n",
      "r:  29  n:  50  result:  67327446062800.0\n",
      "r:  30  n:  50  result:  47129212243960.0\n",
      "r:  31  n:  50  result:  30405943383200.0\n",
      "r:  32  n:  50  result:  18053528883775.0\n",
      "r:  33  n:  50  result:  9847379391150.0\n",
      "r:  34  n:  50  result:  4923689695575.0\n",
      "r:  35  n:  50  result:  2250829575120.0\n",
      "r:  36  n:  50  result:  937845656300.0\n",
      "r:  37  n:  50  result:  354860518600.0\n",
      "r:  38  n:  50  result:  121399651100.0\n",
      "r:  39  n:  50  result:  37353738800.0\n",
      "r:  40  n:  50  result:  10272278170.0\n",
      "r:  41  n:  50  result:  2505433700.0\n",
      "r:  42  n:  50  result:  536878650.0\n",
      "r:  43  n:  50  result:  99884400.0\n",
      "r:  44  n:  50  result:  15890700.0\n",
      "r:  45  n:  50  result:  2118760.0\n",
      "r:  46  n:  50  result:  230300.0\n",
      "r:  47  n:  50  result:  19600.0\n",
      "r:  48  n:  50  result:  1225.0\n",
      "r:  49  n:  50  result:  50.0\n",
      "r:  50  n:  50  result:  1.0\n",
      "(1125899906842623.0, 645849360827.2827)\n"
     ]
    }
   ],
   "source": [
    "# Function to estimate the time to execute unique  for a given number of items\n",
    "def estimate_time(n_items, time_constant=time_constant_per_combination):\n",
    "    # Compute the number of possible combinations\n",
    "    n_combinations = nCr_all(n_items)\n",
    "    # Estimate the time to execute\n",
    "    time_total = time_constant * n_combinations\n",
    "    return n_combinations, time_total\n",
    "\n",
    "# Estimate the time to execute for 50 items\n",
    "print(\"Time constant per combination: \", time_constant_per_combination)\n",
    "esimated_execution_time = estimate_time(50)\n",
    "print(esimated_execution_time)"
   ]
  },
  {
   "cell_type": "code",
   "execution_count": 56,
   "metadata": {},
   "outputs": [
    {
     "name": "stdout",
     "output_type": "stream",
     "text": [
      "Estimated execution time in years: 20479.74888468045\n"
     ]
    }
   ],
   "source": [
    "# Translate the time to execute to years\n",
    "print('Estimated execution time in years:', esimated_execution_time[1]/ (60 * 60 * 24 * 365))"
   ]
  },
  {
   "cell_type": "markdown",
   "metadata": {},
   "source": [
    "# Results"
   ]
  },
  {
   "cell_type": "markdown",
   "metadata": {},
   "source": [
    "In this comparison between mlxtend Apriori and implemented brute-force algorithm, dataset is pre-processed to keep items with higher frequency (75 percentile) for the purpose of this analysis as the support and confidence values for low frequency items can be difficult/ sensitive to implementation differences for observation.\n",
    "\n",
    "A high level verification of the implemented brute-force algorithm was conducted by checking the total number of combinations processed (excluding empty itemset combination) against the mathematical calcuation of: $$\\sum_{r=1}^n n! / (r! * (n-r)!)$$ or $$2^n - 1$$\n",
    "This can be simplified to $$2^n$$\n",
    "where n is number of items, r is selection size\n",
    "\n",
    "In addition, the results of frequent itemsets and association rules from both mlxtend Apriori and implemented brute-force algorithm were compared, and found to be identical, except for the precision differences in the Zhang's metric. The number of metrics computed in brute-force is kept similar to Apriori to keep computational scope similar so as to provide a more identical workload comparison.\n",
    "\n",
    "The number of transactions is kept as a constant while only varying the number of items in execution and recording of both algorithms, with the number of items ranging from 4 to 11 over 8 iterations. Each iteration execution 3 runs and times are averaged to mitigate CPU variations. Minimum support and confidence are also set to constant 0.01 for the execution time analysis.\n",
    "\n",
    "From observation of the graph plotted (number of items to execution time), the time for brute-force algorithm execution increases (positive related) as compared to Apriori which remains relatively constant. From computational time estimation perspective following the program logic of brute force, the time complexity formula can be defined as:\n",
    "\n",
    "$$O(2^n * NT * 2^{(n-1)})$$\n",
    "\n",
    "where n is number of unique items in dataset and NT is the number of transactions.\n",
    "\n",
    "1. Generating all possible itemsets (subsets of items) of length 1 to n: This involves generating all possible combinations of items, and there are $2^n$ such combinations.\n",
    "2. For each itemset, checking its support in the dataset requires scanning all transactions, which is $O(NT)$.\n",
    "3. For each frequent itemset, generating association rules involves considering all possible combinations of items within the itemset, which is an additional factor of $2^{(n-1)}$.\n",
    "\n",
    "Therefore, the estimated computational time E of frequent itemset and association rules for n unique items with NT transactions can be defined as:\n",
    "\n",
    "$E(n) = C * (2^{(2n-1)}) * NT$, or further simplified as $E(n) = C * (2^n)$\n",
    "\n",
    "as $2^{-1}$ along with $2^2$ can be disregarded with large n (and is constant), and NT is similarly kept constant for this measurement.\n",
    "> Number of transaction can be disregarded here as he number of transactions is kept constant at 10 transactions for all iterations of varying n values and the estimation.\n",
    "\n",
    "To find the estimated time constant value (C) for brute-force, 20 iterations of 3 runs of brute-force algorithm is performed with itemset size ranging from 1 to 20.\n",
    "\n",
    "Plotting the relationship between iterations and number of items, itemset combinations, total time and the time per combination from the results confirms that:\n",
    "1. Total execution time is positively related to number of items and itemset combinations (0.9995612164242145).\n",
    "2. The number of itemset combination increases exponentially as number of items increases.\n",
    "3. The execution time per itemset combination stays constant, and is not strongly correlated (-0.20636120017649415).\n",
    "4. Apart from the variations in average execution time per itemset combinations for range of items 1 to 7 (inclusive), the rest of the average execution time per itemset combinations remains constant which can be applied for estimating time for brute-force execution with larger number of items.\n",
    "\n",
    "The overall average execution time per itemset combination is computed as follows:\n",
    "$$C_i = \\sum_{k=8}^m (t_f + t_a)_k / \\sum_{r=1}^n n! / (r! * (n-r)!) / m$$\n",
    "where n is number of items, r is selection size, t<sub>f</sub> is execution time for frequent itemsets, t<sub>a</sub> is execution time for association rules, m is the number of runs in each iteration, C<sub>i</sub> is the average time constant for iteration i\n",
    "$$ C = \\sum_{i=1}^o C_i / o $$\n",
    "where o is the number of iterations retained for overall average time constant computation, C is is the overall average time constatn across iterations.\n",
    "\n",
    "C is calculated at 0.0005736294646639125 seconds from the procedure above.\n",
    "> The time constant estimation is performed on a Macbook pro with 2.8 GHz Quad-Core Intel Core i7 CPU and 16 GB 2133 MHz LPDDR3 Memory.\n",
    "\n",
    "The estimated time E for n items is therefore computed with: $$E(n) = C * \\sum_{r=1}^n n! / (r! * (n-r)!) $$ or $$E(n) = C * 2^n$$\n",
    "\n",
    "For 50 items with 10 transactions, the time estimated for brute force algorithm (execution of frequent itemsets and high confidence association rules) is approximately 1.12 quadrillion (1,125,899,906,842,623.0) combinations requiring about approximately 20,479.75 years (645849360827.2827 seconds).\n",
    "\n"
   ]
  },
  {
   "cell_type": "markdown",
   "metadata": {},
   "source": [
    "# References"
   ]
  },
  {
   "cell_type": "markdown",
   "metadata": {},
   "source": [
    "1. Bismi, I. (2023, April 10). How to perform Market Basket Analysis using Apriori Algorithm and Association Rules. Medium. https://medium.com/@iqra.bismi/how-to-perform-market-basket-analysis-using-apriori-algorithm-and-association-rules-3f6ba61d6e4b\n",
    "2. Mehta, D. (2020). Dhruvish97/Brute-Force-Rule-Mining [Python]. https://github.com/Dhruvish97/Brute-Force-Rule-Mining (Original work published 2020)\n",
    "3. Groceries dataset. (n.d.). Retrieved 5 October 2023, from https://www.kaggle.com/datasets/heeraldedhia/groceries-dataset\n",
    "4. Apriori Algorithm or Market Basket Analysis. (n.d.). Retrieved 4 October 2023, from https://kaggle.com/code/rockystats/apriori-algorithm-or-market-basket-analysis\n",
    "5. Harsh. (2021, June 26). Association Analysis in Python. Analytics Vidhya. https://medium.com/analytics-vidhya/association-analysis-in-python-2b955d0180c\n",
    "6. Nguyen, C. (2023, March 24). Introduction to Simple Association Rules Mining for Market Basket Analysis. Medium. https://towardsdatascience.com/introduction-to-simple-association-rules-mining-for-market-basket-analysis-ef8f2d613d87\n",
    "7. Khadka, N. (2023, March 2). The Ultimate Guide to Association Rule Analysis—Dataaspirant. https://dataaspirant.com/association-rule-analysis/\n",
    "8. Hashmi, F. (2020, September 8). How to do Association Rule Mining using apriori in Python. Thinking Neuron. https://thinkingneuron.com/how-to-do-association-rule-mining-using-apriori-in-python/\n",
    "9. Torkan, M. (2020, October 19). Association Rules with Python. Medium. https://medium.com/@mervetorkan/association-rules-with-python-9158974e761a\n",
    "10. Yan, X., Zhang, C., & Zhang, S. (2009). CONFIDENCE METRICS FOR ASSOCIATION RULE MINING. Applied Artificial Intelligence, 23(8), 713–737. https://doi.org/10.1080/08839510903208062\n",
    "11. Association Rule Mining in Python Tutorial. (n.d.). Retrieved 4 October 2023, from https://www.datacamp.com/tutorial/association-rule-mining-python\n",
    "12. Bhavsar, J. (2022). Data-Mining [Python]. https://github.com/Jaini-Bhavsar/Data-Mining (Original work published 2022)"
   ]
  }
 ],
 "metadata": {
  "kernelspec": {
   "display_name": "IN6227_2",
   "language": "python",
   "name": "python3"
  },
  "language_info": {
   "codemirror_mode": {
    "name": "ipython",
    "version": 3
   },
   "file_extension": ".py",
   "mimetype": "text/x-python",
   "name": "python",
   "nbconvert_exporter": "python",
   "pygments_lexer": "ipython3",
   "version": "3.11.5"
  },
  "orig_nbformat": 4
 },
 "nbformat": 4,
 "nbformat_minor": 2
}
