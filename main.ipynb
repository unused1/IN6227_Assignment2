{
 "cells": [
  {
   "cell_type": "markdown",
   "metadata": {},
   "source": [
    "# File Information"
   ]
  },
  {
   "cell_type": "markdown",
   "metadata": {},
   "source": [
    "__Author__: \"Tan Hua Beng, G2203829L\"\n",
    "\n",
    "__Email__: \"w220032@e.ntu.edus.g\"\n",
    "\n",
    "__Project__ = \"IN6277 Assignment 2\"\n",
    "\n",
    "__Description__ = \"Jupyter notebook containing the workings, notes, and code for IN6277 assignment 2. This assignment uses a dataset downloaded from Kaggle. Two types of association rules algorithm - Apriori based on mlxtend python library and brute force python implementation taking reference from GitHub (https://github.com/Jaini-Bhavsar/Data-Mining), are applied and compared by analysing the time required for execution as the performance metric.\n",
    "\n",
    "__License__ = \"See README.md\"\n",
    "\n",
    "__Version__ = \"1.0.0\"\n"
   ]
  },
  {
   "cell_type": "code",
   "execution_count": 1,
   "metadata": {},
   "outputs": [],
   "source": [
    "!pip list --format=freeze > requirements.txt\n",
    "!conda list -e > conda_requirements.txt"
   ]
  }
 ],
 "metadata": {
  "kernelspec": {
   "display_name": "IN6227_2",
   "language": "python",
   "name": "python3"
  },
  "language_info": {
   "codemirror_mode": {
    "name": "ipython",
    "version": 3
   },
   "file_extension": ".py",
   "mimetype": "text/x-python",
   "name": "python",
   "nbconvert_exporter": "python",
   "pygments_lexer": "ipython3",
   "version": "3.11.5"
  },
  "orig_nbformat": 4
 },
 "nbformat": 4,
 "nbformat_minor": 2
}
